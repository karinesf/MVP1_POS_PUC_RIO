{
  "nbformat": 4,
  "nbformat_minor": 0,
  "metadata": {
    "colab": {
      "provenance": [],
      "toc_visible": true
    },
    "kernelspec": {
      "name": "python3",
      "display_name": "Python 3"
    },
    "language_info": {
      "name": "python"
    }
  },
  "cells": [
    {
      "cell_type": "markdown",
      "source": [
        "# MVP Sprint 1 - Análise Exploratória de Dados (EDA): casas brasileiras para alugar\n",
        "Conjunto de dados: Kaggle"
      ],
      "metadata": {
        "id": "rWuwqXUFyTT0"
      }
    },
    {
      "cell_type": "markdown",
      "source": [
        "Trabalho realizado durante a primeira Sprint do Curso de Pós Graduação em Ciência de Dados e Analytics - PUC-RIO"
      ],
      "metadata": {
        "id": "50_1-cNfyuPO"
      }
    },
    {
      "cell_type": "markdown",
      "source": [
        "# Definição do problema:"
      ],
      "metadata": {
        "id": "uQ7C3ui40WWz"
      }
    },
    {
      "cell_type": "markdown",
      "source": [
        "- Os dados vêm de uma competição do Kaggle chamada “brazilian_houses_to_rent” ( https://www.kaggle.com/rubenssjr/brasilian-houses-to-rent ), que é um conjunto de dados de casas para alugar em diferentes cidades do Brasil. Ele contém 10.962 propriedades para alugar e 13 características diferentes que podem nos ajudar a prever o preço do aluguel de uma casa.\n",
        "- O valor de uma casa é simplesmente mais do que localização e metragem quadrada. Vamos aproveitar as variáveis disponíveis para fazer essa análise.\n",
        "- Com este estudo, poderemos perceber quais as características (ex. Número de banheiros, localização, etc.) que influenciam no preço do aluguel de uma casa.\n",
        "\n",
        "\n"
      ],
      "metadata": {
        "id": "HTDZr_V-zO-h"
      }
    },
    {
      "cell_type": "markdown",
      "source": [
        "O objetivo pretendido neste notebook é:\n",
        " - Fazer uma análise exploratória do dataset e poder inferir quais características mais influenciam no preço do aluguel de uma casa, levando em consideração as variáveis disponíveis."
      ],
      "metadata": {
        "id": "7toWwibWz5j6"
      }
    },
    {
      "cell_type": "markdown",
      "source": [
        "### hipóteses:\n",
        "\n",
        "- Algumas cidades têm preços de aluguel mais alto;\n",
        "- A área do imóvel influencia em aluguel mais alto;\n",
        "- Aceitar animais impacta no valor do aluguel;\n",
        "- Casas com condomínio mais alto têm aluguel mais alto;\n",
        "- As casas mobiliadas impacta em aluguel mais elevado;\n",
        "- O número de vagas de estacionamento impacta no valor do aluguel.\n",
        "- Casas com maior quantidade de quartos tem o aluguel mais alto;\n",
        "- Casas com maior quantidade de banheiros tem o aluguel mais alto;\n",
        "- Qual a diferença de valor de aluguel de uma casa nas mesmas condições, mas no bairro mais caro e no mais barato;\n",
        "- o quanto um quarto ou um banheiro a mais impacta no valor do aluguel."
      ],
      "metadata": {
        "id": "xWJEmHxwWmSi"
      }
    },
    {
      "cell_type": "markdown",
      "source": [
        "### Descrição dos atributos do dataset:\n",
        "- city -> Cidade onde o imóvel está localizado / City where the property is located\n",
        "- area -> área do imóvel / Property area\n",
        "- rooms -> quantidade de quartos/ Quantity of rooms\n",
        "- bathroom -> quantidade de banheiros / Quantity of bathroom\n",
        "- parking spaces -> quantidade de vagas de estacionamento / Quantity of parking spaces\n",
        "- floor -> Andar / Floor\n",
        "- animal -> Aceita animais? / Acept animals?\n",
        "- furniture -> Mobiliada? / Furniture?\n",
        "- hoa -> Valor do condomínio / Homeowners association tax (em real)\n",
        "- rent amount -> Valor do Aluguel / Rent amount (em real)\n",
        "- property tax -> IPTU / Property tax (em real)\n",
        "- fire insurance -> Seguro Incêndio / Fire Insurance (em real)\n",
        "- total -> Valor total, soma de todos os valores / Total (em real)\n"
      ],
      "metadata": {
        "id": "YIg6gRKtt02o"
      }
    },
    {
      "cell_type": "markdown",
      "source": [
        "# Limpeza e pré-processamento de dados: "
      ],
      "metadata": {
        "id": "yVfYuaxQ0fcO"
      }
    },
    {
      "cell_type": "code",
      "source": [
        "#Importação das bibliotecas necessárias\n",
        "import pandas as pd\n",
        "import matplotlib.pyplot as plt\n",
        "import numpy as np\n",
        "import seaborn as sns\n",
        "import warnings\n",
        "warnings.filterwarnings('ignore')"
      ],
      "metadata": {
        "id": "w1osKJAe1ELw"
      },
      "execution_count": 124,
      "outputs": []
    },
    {
      "cell_type": "code",
      "source": [
        "#Função para formatar a matriz de correlação\n",
        "def plot_corr_matrix(corr_matrix, size=(14, 14)):\n",
        "  # Configurando a figura do matplotlib\n",
        "  fig, ax = plt.subplots(figsize=size)\n",
        "\n",
        "  # Gerando um mapa de cores divergente personalizado\n",
        "  cmap = sns.diverging_palette(220, 10, as_cmap=True)\n",
        "\n",
        "  # Gerando uma máscara para o triângulo superior\n",
        "  mask = np.triu(np.ones_like(corr_matrix.corr(), dtype=np.bool))\n",
        "\n",
        "  # Desenhando o mapa de calor com a máscara e a proporção correta\n",
        "  sns.heatmap(corr_matrix.corr(), mask=mask, cmap=cmap, vmax=.99, center=0,\n",
        "              square=True, linewidths=.5, cbar_kws={\"shrink\": .5})"
      ],
      "metadata": {
        "id": "32vYSk5JaO_a"
      },
      "execution_count": 125,
      "outputs": []
    },
    {
      "cell_type": "code",
      "source": [
        "# Criando função para modificar as variáveis com tipo object em categóricas\n",
        "def mudar_tipo(x):\n",
        "\n",
        "    if x.dtype == \"object\":\n",
        "        return x.astype(\"category\")\n",
        "    return x"
      ],
      "metadata": {
        "id": "eeN8nAvwaZyH"
      },
      "execution_count": 126,
      "outputs": []
    },
    {
      "cell_type": "code",
      "source": [
        "#Leitura do dataset\n",
        "df_houses = pd.read_csv(\"houses_to_rent_v2.csv\")"
      ],
      "metadata": {
        "id": "Pe5tgYTP6jsd"
      },
      "execution_count": 127,
      "outputs": []
    },
    {
      "cell_type": "code",
      "source": [
        "# Verificação geral/Primeiras linhas do dataset\n",
        "df_houses.head()"
      ],
      "metadata": {
        "colab": {
          "base_uri": "https://localhost:8080/",
          "height": 371
        },
        "id": "DuotU9hn65CO",
        "outputId": "91b8f1b2-79ab-4f03-875a-a3c452e5cde3"
      },
      "execution_count": 128,
      "outputs": [
        {
          "output_type": "execute_result",
          "data": {
            "text/plain": [
              "           city  area  rooms  bathroom  parking spaces floor     animal  \\\n",
              "0     São Paulo    70      2         1               1     7      acept   \n",
              "1     São Paulo   320      4         4               0    20      acept   \n",
              "2  Porto Alegre    80      1         1               1     6      acept   \n",
              "3  Porto Alegre    51      2         1               0     2      acept   \n",
              "4     São Paulo    25      1         1               0     1  not acept   \n",
              "\n",
              "       furniture  hoa (R$)  rent amount (R$)  property tax (R$)  \\\n",
              "0      furnished      2065              3300                211   \n",
              "1  not furnished      1200              4960               1750   \n",
              "2  not furnished      1000              2800                  0   \n",
              "3  not furnished       270              1112                 22   \n",
              "4  not furnished         0               800                 25   \n",
              "\n",
              "   fire insurance (R$)  total (R$)  \n",
              "0                   42        5618  \n",
              "1                   63        7973  \n",
              "2                   41        3841  \n",
              "3                   17        1421  \n",
              "4                   11         836  "
            ],
            "text/html": [
              "\n",
              "  <div id=\"df-b299637f-d1f7-45ad-8dc1-a311164576ba\">\n",
              "    <div class=\"colab-df-container\">\n",
              "      <div>\n",
              "<style scoped>\n",
              "    .dataframe tbody tr th:only-of-type {\n",
              "        vertical-align: middle;\n",
              "    }\n",
              "\n",
              "    .dataframe tbody tr th {\n",
              "        vertical-align: top;\n",
              "    }\n",
              "\n",
              "    .dataframe thead th {\n",
              "        text-align: right;\n",
              "    }\n",
              "</style>\n",
              "<table border=\"1\" class=\"dataframe\">\n",
              "  <thead>\n",
              "    <tr style=\"text-align: right;\">\n",
              "      <th></th>\n",
              "      <th>city</th>\n",
              "      <th>area</th>\n",
              "      <th>rooms</th>\n",
              "      <th>bathroom</th>\n",
              "      <th>parking spaces</th>\n",
              "      <th>floor</th>\n",
              "      <th>animal</th>\n",
              "      <th>furniture</th>\n",
              "      <th>hoa (R$)</th>\n",
              "      <th>rent amount (R$)</th>\n",
              "      <th>property tax (R$)</th>\n",
              "      <th>fire insurance (R$)</th>\n",
              "      <th>total (R$)</th>\n",
              "    </tr>\n",
              "  </thead>\n",
              "  <tbody>\n",
              "    <tr>\n",
              "      <th>0</th>\n",
              "      <td>São Paulo</td>\n",
              "      <td>70</td>\n",
              "      <td>2</td>\n",
              "      <td>1</td>\n",
              "      <td>1</td>\n",
              "      <td>7</td>\n",
              "      <td>acept</td>\n",
              "      <td>furnished</td>\n",
              "      <td>2065</td>\n",
              "      <td>3300</td>\n",
              "      <td>211</td>\n",
              "      <td>42</td>\n",
              "      <td>5618</td>\n",
              "    </tr>\n",
              "    <tr>\n",
              "      <th>1</th>\n",
              "      <td>São Paulo</td>\n",
              "      <td>320</td>\n",
              "      <td>4</td>\n",
              "      <td>4</td>\n",
              "      <td>0</td>\n",
              "      <td>20</td>\n",
              "      <td>acept</td>\n",
              "      <td>not furnished</td>\n",
              "      <td>1200</td>\n",
              "      <td>4960</td>\n",
              "      <td>1750</td>\n",
              "      <td>63</td>\n",
              "      <td>7973</td>\n",
              "    </tr>\n",
              "    <tr>\n",
              "      <th>2</th>\n",
              "      <td>Porto Alegre</td>\n",
              "      <td>80</td>\n",
              "      <td>1</td>\n",
              "      <td>1</td>\n",
              "      <td>1</td>\n",
              "      <td>6</td>\n",
              "      <td>acept</td>\n",
              "      <td>not furnished</td>\n",
              "      <td>1000</td>\n",
              "      <td>2800</td>\n",
              "      <td>0</td>\n",
              "      <td>41</td>\n",
              "      <td>3841</td>\n",
              "    </tr>\n",
              "    <tr>\n",
              "      <th>3</th>\n",
              "      <td>Porto Alegre</td>\n",
              "      <td>51</td>\n",
              "      <td>2</td>\n",
              "      <td>1</td>\n",
              "      <td>0</td>\n",
              "      <td>2</td>\n",
              "      <td>acept</td>\n",
              "      <td>not furnished</td>\n",
              "      <td>270</td>\n",
              "      <td>1112</td>\n",
              "      <td>22</td>\n",
              "      <td>17</td>\n",
              "      <td>1421</td>\n",
              "    </tr>\n",
              "    <tr>\n",
              "      <th>4</th>\n",
              "      <td>São Paulo</td>\n",
              "      <td>25</td>\n",
              "      <td>1</td>\n",
              "      <td>1</td>\n",
              "      <td>0</td>\n",
              "      <td>1</td>\n",
              "      <td>not acept</td>\n",
              "      <td>not furnished</td>\n",
              "      <td>0</td>\n",
              "      <td>800</td>\n",
              "      <td>25</td>\n",
              "      <td>11</td>\n",
              "      <td>836</td>\n",
              "    </tr>\n",
              "  </tbody>\n",
              "</table>\n",
              "</div>\n",
              "      <button class=\"colab-df-convert\" onclick=\"convertToInteractive('df-b299637f-d1f7-45ad-8dc1-a311164576ba')\"\n",
              "              title=\"Convert this dataframe to an interactive table.\"\n",
              "              style=\"display:none;\">\n",
              "        \n",
              "  <svg xmlns=\"http://www.w3.org/2000/svg\" height=\"24px\"viewBox=\"0 0 24 24\"\n",
              "       width=\"24px\">\n",
              "    <path d=\"M0 0h24v24H0V0z\" fill=\"none\"/>\n",
              "    <path d=\"M18.56 5.44l.94 2.06.94-2.06 2.06-.94-2.06-.94-.94-2.06-.94 2.06-2.06.94zm-11 1L8.5 8.5l.94-2.06 2.06-.94-2.06-.94L8.5 2.5l-.94 2.06-2.06.94zm10 10l.94 2.06.94-2.06 2.06-.94-2.06-.94-.94-2.06-.94 2.06-2.06.94z\"/><path d=\"M17.41 7.96l-1.37-1.37c-.4-.4-.92-.59-1.43-.59-.52 0-1.04.2-1.43.59L10.3 9.45l-7.72 7.72c-.78.78-.78 2.05 0 2.83L4 21.41c.39.39.9.59 1.41.59.51 0 1.02-.2 1.41-.59l7.78-7.78 2.81-2.81c.8-.78.8-2.07 0-2.86zM5.41 20L4 18.59l7.72-7.72 1.47 1.35L5.41 20z\"/>\n",
              "  </svg>\n",
              "      </button>\n",
              "      \n",
              "  <style>\n",
              "    .colab-df-container {\n",
              "      display:flex;\n",
              "      flex-wrap:wrap;\n",
              "      gap: 12px;\n",
              "    }\n",
              "\n",
              "    .colab-df-convert {\n",
              "      background-color: #E8F0FE;\n",
              "      border: none;\n",
              "      border-radius: 50%;\n",
              "      cursor: pointer;\n",
              "      display: none;\n",
              "      fill: #1967D2;\n",
              "      height: 32px;\n",
              "      padding: 0 0 0 0;\n",
              "      width: 32px;\n",
              "    }\n",
              "\n",
              "    .colab-df-convert:hover {\n",
              "      background-color: #E2EBFA;\n",
              "      box-shadow: 0px 1px 2px rgba(60, 64, 67, 0.3), 0px 1px 3px 1px rgba(60, 64, 67, 0.15);\n",
              "      fill: #174EA6;\n",
              "    }\n",
              "\n",
              "    [theme=dark] .colab-df-convert {\n",
              "      background-color: #3B4455;\n",
              "      fill: #D2E3FC;\n",
              "    }\n",
              "\n",
              "    [theme=dark] .colab-df-convert:hover {\n",
              "      background-color: #434B5C;\n",
              "      box-shadow: 0px 1px 3px 1px rgba(0, 0, 0, 0.15);\n",
              "      filter: drop-shadow(0px 1px 2px rgba(0, 0, 0, 0.3));\n",
              "      fill: #FFFFFF;\n",
              "    }\n",
              "  </style>\n",
              "\n",
              "      <script>\n",
              "        const buttonEl =\n",
              "          document.querySelector('#df-b299637f-d1f7-45ad-8dc1-a311164576ba button.colab-df-convert');\n",
              "        buttonEl.style.display =\n",
              "          google.colab.kernel.accessAllowed ? 'block' : 'none';\n",
              "\n",
              "        async function convertToInteractive(key) {\n",
              "          const element = document.querySelector('#df-b299637f-d1f7-45ad-8dc1-a311164576ba');\n",
              "          const dataTable =\n",
              "            await google.colab.kernel.invokeFunction('convertToInteractive',\n",
              "                                                     [key], {});\n",
              "          if (!dataTable) return;\n",
              "\n",
              "          const docLinkHtml = 'Like what you see? Visit the ' +\n",
              "            '<a target=\"_blank\" href=https://colab.research.google.com/notebooks/data_table.ipynb>data table notebook</a>'\n",
              "            + ' to learn more about interactive tables.';\n",
              "          element.innerHTML = '';\n",
              "          dataTable['output_type'] = 'display_data';\n",
              "          await google.colab.output.renderOutput(dataTable, element);\n",
              "          const docLink = document.createElement('div');\n",
              "          docLink.innerHTML = docLinkHtml;\n",
              "          element.appendChild(docLink);\n",
              "        }\n",
              "      </script>\n",
              "    </div>\n",
              "  </div>\n",
              "  "
            ]
          },
          "metadata": {},
          "execution_count": 128
        }
      ]
    },
    {
      "cell_type": "code",
      "source": [
        "# Verificando o tamanho do dataset (linhas e colunas)\n",
        "df_houses.shape"
      ],
      "metadata": {
        "colab": {
          "base_uri": "https://localhost:8080/"
        },
        "id": "hN6AEPyI7LGN",
        "outputId": "a36c8cd8-b02e-4157-a2ab-890ffad2a9f7"
      },
      "execution_count": 129,
      "outputs": [
        {
          "output_type": "execute_result",
          "data": {
            "text/plain": [
              "(10692, 13)"
            ]
          },
          "metadata": {},
          "execution_count": 129
        }
      ]
    },
    {
      "cell_type": "code",
      "source": [
        "# Verificando os tipos das variáveis\n",
        "df_houses.info()"
      ],
      "metadata": {
        "colab": {
          "base_uri": "https://localhost:8080/"
        },
        "id": "kXIXD1bC7PN0",
        "outputId": "4abd9b1d-20fd-4fc8-978b-9563dc3426c3"
      },
      "execution_count": 130,
      "outputs": [
        {
          "output_type": "stream",
          "name": "stdout",
          "text": [
            "<class 'pandas.core.frame.DataFrame'>\n",
            "RangeIndex: 10692 entries, 0 to 10691\n",
            "Data columns (total 13 columns):\n",
            " #   Column               Non-Null Count  Dtype \n",
            "---  ------               --------------  ----- \n",
            " 0   city                 10692 non-null  object\n",
            " 1   area                 10692 non-null  int64 \n",
            " 2   rooms                10692 non-null  int64 \n",
            " 3   bathroom             10692 non-null  int64 \n",
            " 4   parking spaces       10692 non-null  int64 \n",
            " 5   floor                10692 non-null  object\n",
            " 6   animal               10692 non-null  object\n",
            " 7   furniture            10692 non-null  object\n",
            " 8   hoa (R$)             10692 non-null  int64 \n",
            " 9   rent amount (R$)     10692 non-null  int64 \n",
            " 10  property tax (R$)    10692 non-null  int64 \n",
            " 11  fire insurance (R$)  10692 non-null  int64 \n",
            " 12  total (R$)           10692 non-null  int64 \n",
            "dtypes: int64(9), object(4)\n",
            "memory usage: 1.1+ MB\n"
          ]
        }
      ]
    },
    {
      "cell_type": "code",
      "source": [
        "# Verificando valores nulos\n",
        "df_houses.isnull().sum()"
      ],
      "metadata": {
        "colab": {
          "base_uri": "https://localhost:8080/"
        },
        "id": "LFw-cXNU7oEu",
        "outputId": "bb95e40a-d437-4138-9c0a-9d69cf62280a"
      },
      "execution_count": 131,
      "outputs": [
        {
          "output_type": "execute_result",
          "data": {
            "text/plain": [
              "city                   0\n",
              "area                   0\n",
              "rooms                  0\n",
              "bathroom               0\n",
              "parking spaces         0\n",
              "floor                  0\n",
              "animal                 0\n",
              "furniture              0\n",
              "hoa (R$)               0\n",
              "rent amount (R$)       0\n",
              "property tax (R$)      0\n",
              "fire insurance (R$)    0\n",
              "total (R$)             0\n",
              "dtype: int64"
            ]
          },
          "metadata": {},
          "execution_count": 131
        }
      ]
    },
    {
      "cell_type": "markdown",
      "source": [
        "- O dataset não possui valores nulos. Não é porque não temos valores ausentes que não temos valores errados nos dados e quaisquer valores errados podem influenciar nossa análise."
      ],
      "metadata": {
        "id": "Qj6njBrCKs4q"
      }
    },
    {
      "cell_type": "code",
      "source": [
        "# Verificando a variável floor, por qual motivo está como object?\n",
        "df_houses[['floor']].value_counts(sort = True)"
      ],
      "metadata": {
        "colab": {
          "base_uri": "https://localhost:8080/"
        },
        "id": "Ulb9hG3tGNVw",
        "outputId": "257dc4ba-5efd-4367-dc36-41fb76664f74"
      },
      "execution_count": 132,
      "outputs": [
        {
          "output_type": "execute_result",
          "data": {
            "text/plain": [
              "floor\n",
              "-        2461\n",
              "1        1081\n",
              "2         985\n",
              "3         931\n",
              "4         748\n",
              "5         600\n",
              "6         539\n",
              "7         497\n",
              "8         490\n",
              "9         369\n",
              "10        357\n",
              "11        303\n",
              "12        257\n",
              "13        200\n",
              "14        170\n",
              "15        147\n",
              "16        109\n",
              "17         96\n",
              "18         75\n",
              "19         53\n",
              "20         44\n",
              "21         42\n",
              "23         25\n",
              "25         25\n",
              "22         24\n",
              "26         20\n",
              "24         19\n",
              "27          8\n",
              "28          6\n",
              "29          5\n",
              "32          2\n",
              "35          1\n",
              "46          1\n",
              "51          1\n",
              "301         1\n",
              "dtype: int64"
            ]
          },
          "metadata": {},
          "execution_count": 132
        }
      ]
    },
    {
      "cell_type": "markdown",
      "source": [
        "- Aqui, temos dois problemas iniciais. Uma quantidade de dados com um andar indefinido representado por '-' e 1 dado com andar 301. Os dois casos são um problema a ser considerado para a continuação da análise.\n",
        "- Precisamos também mudar o nome da coluna porque é uma palavra reservada em python."
      ],
      "metadata": {
        "id": "epo8Uzct8cCc"
      }
    },
    {
      "cell_type": "code",
      "source": [
        "# Mudando mome da coluna\n",
        "df_alterado = df_houses.rename(columns={'floor':'floors'})"
      ],
      "metadata": {
        "id": "K-1sdb15Z3n-"
      },
      "execution_count": 133,
      "outputs": []
    },
    {
      "cell_type": "code",
      "source": [
        "# Substituindo o andar  representado por '-' por 0\n",
        "df_alterado['floors'] = df_alterado['floors'].replace(to_replace='-', value=0)"
      ],
      "metadata": {
        "id": "WoK4fE2B9i_F"
      },
      "execution_count": 134,
      "outputs": []
    },
    {
      "cell_type": "markdown",
      "source": [
        "- Vamos levar em consideração que 0 significa casas sem andares (Térreo)"
      ],
      "metadata": {
        "id": "8AecpkqyI6cs"
      }
    },
    {
      "cell_type": "code",
      "source": [
        "# Mudando o tipo da variável floor para inteiro\n",
        "df_alterado.floors = df_alterado.floors.astype('int64')"
      ],
      "metadata": {
        "id": "kvHnN6qx-P4j"
      },
      "execution_count": 135,
      "outputs": []
    },
    {
      "cell_type": "markdown",
      "source": [
        "- As casas no Brasil tem no máximo 81 andares, então vamos verificar os valores maiores que 81 andares presente no dataset e retirá-los, pois são dados errados que irão atrapalhar nas análisess."
      ],
      "metadata": {
        "id": "Qr9iIgBmdQRS"
      }
    },
    {
      "cell_type": "code",
      "source": [
        "# Verificando valores maiores que 81 andares\n",
        "df_andar = (df_alterado['floors'] > 81).sum()\n",
        "df_andar"
      ],
      "metadata": {
        "colab": {
          "base_uri": "https://localhost:8080/"
        },
        "id": "XYIQ9TXIcGOy",
        "outputId": "8309f4ce-82dd-4a65-86f8-ee632895f1b0"
      },
      "execution_count": 136,
      "outputs": [
        {
          "output_type": "execute_result",
          "data": {
            "text/plain": [
              "1"
            ]
          },
          "metadata": {},
          "execution_count": 136
        }
      ]
    },
    {
      "cell_type": "code",
      "source": [
        "# Deixando o dataset com andares até 81 \n",
        "df_alterado = df_alterado.query('floors<=81')"
      ],
      "metadata": {
        "id": "z6QocMyFcfO6"
      },
      "execution_count": 137,
      "outputs": []
    },
    {
      "cell_type": "code",
      "source": [
        "# Verificando a variável floors, após essas modificações\n",
        "df_alterado[['floors']].value_counts(sort = True)"
      ],
      "metadata": {
        "colab": {
          "base_uri": "https://localhost:8080/"
        },
        "id": "eqCopFqyc-BW",
        "outputId": "c067ef85-0553-43c5-e9f1-66783ac48c1d"
      },
      "execution_count": 138,
      "outputs": [
        {
          "output_type": "execute_result",
          "data": {
            "text/plain": [
              "floors\n",
              "0         2461\n",
              "1         1081\n",
              "2          985\n",
              "3          931\n",
              "4          748\n",
              "5          600\n",
              "6          539\n",
              "7          497\n",
              "8          490\n",
              "9          369\n",
              "10         357\n",
              "11         303\n",
              "12         257\n",
              "13         200\n",
              "14         170\n",
              "15         147\n",
              "16         109\n",
              "17          96\n",
              "18          75\n",
              "19          53\n",
              "20          44\n",
              "21          42\n",
              "23          25\n",
              "25          25\n",
              "22          24\n",
              "26          20\n",
              "24          19\n",
              "27           8\n",
              "28           6\n",
              "29           5\n",
              "32           2\n",
              "35           1\n",
              "46           1\n",
              "51           1\n",
              "dtype: int64"
            ]
          },
          "metadata": {},
          "execution_count": 138
        }
      ]
    },
    {
      "cell_type": "code",
      "source": [
        "# Transformando as variáveis com tipo object em categoricas\n",
        "df_alterado= df_alterado.apply(lambda x: mudar_tipo(x))"
      ],
      "metadata": {
        "id": "w_4Phffhz9Nv"
      },
      "execution_count": 139,
      "outputs": []
    },
    {
      "cell_type": "code",
      "source": [
        "# Verificando valores duplicados\n",
        "df_alterado.duplicated().sum()"
      ],
      "metadata": {
        "colab": {
          "base_uri": "https://localhost:8080/"
        },
        "id": "apCK4usk7iHx",
        "outputId": "e90c2668-5e71-42ce-a892-d82fa08a9034"
      },
      "execution_count": 140,
      "outputs": [
        {
          "output_type": "execute_result",
          "data": {
            "text/plain": [
              "358"
            ]
          },
          "metadata": {},
          "execution_count": 140
        }
      ]
    },
    {
      "cell_type": "markdown",
      "source": [
        "- O dataset apresenta 358 valores duplicados, dessa forma, irei retirar esses valores para prosseguir com as análises. "
      ],
      "metadata": {
        "id": "RJI6am6PKKA2"
      }
    },
    {
      "cell_type": "code",
      "source": [
        "# Retirando valores duplicados\n",
        "df_alterado = df_alterado.drop_duplicates()"
      ],
      "metadata": {
        "id": "56G-cXZT1iSO"
      },
      "execution_count": 141,
      "outputs": []
    },
    {
      "cell_type": "code",
      "source": [
        "# Separando as variáveis:\n",
        "# Variáveis numéricas\n",
        "vars_num = df_alterado.select_dtypes(include=['int', 'float']).columns.tolist()\n",
        "print(f'\\nVariáveis numéricas({len(vars_num)}): {vars_num}')\n",
        "\n",
        "# Variáveis categóricas\n",
        "vars_cat = df_alterado.select_dtypes(exclude=['int', 'float']).columns.tolist()\n",
        "print(f'\\nVariáveis Categóricas({len(vars_cat)}): {vars_cat}')"
      ],
      "metadata": {
        "colab": {
          "base_uri": "https://localhost:8080/"
        },
        "id": "IXrWS1Z-jDKh",
        "outputId": "392f29c7-65d6-4741-d1be-bb6db13671ec"
      },
      "execution_count": 142,
      "outputs": [
        {
          "output_type": "stream",
          "name": "stdout",
          "text": [
            "\n",
            "Variáveis numéricas(10): ['area', 'rooms', 'bathroom', 'parking spaces', 'floors', 'hoa (R$)', 'rent amount (R$)', 'property tax (R$)', 'fire insurance (R$)', 'total (R$)']\n",
            "\n",
            "Variáveis Categóricas(3): ['city', 'animal', 'furniture']\n"
          ]
        }
      ]
    },
    {
      "cell_type": "code",
      "source": [
        "# Medidas de resumo das variáveis quantitativas\n",
        "df_alterado.describe(percentiles = [.25, .50, .75, .95, .99], include=['int64', 'float64']).round(2)"
      ],
      "metadata": {
        "colab": {
          "base_uri": "https://localhost:8080/",
          "height": 441
        },
        "id": "EQyhO7sU8Zch",
        "outputId": "fe1a335e-4d5c-4795-9db6-d3568285a963"
      },
      "execution_count": 143,
      "outputs": [
        {
          "output_type": "execute_result",
          "data": {
            "text/plain": [
              "           area     rooms  bathroom  parking spaces    floors    hoa (R$)  \\\n",
              "count  10333.00  10333.00  10333.00        10333.00  10333.00    10333.00   \n",
              "mean     152.45      2.54      2.27            1.64      5.07     1091.28   \n",
              "std      545.90      1.17      1.41            1.60      5.32    11446.65   \n",
              "min       11.00      1.00      1.00            0.00      0.00        0.00   \n",
              "25%       59.00      2.00      1.00            1.00      1.00      180.00   \n",
              "50%       95.00      3.00      2.00            1.00      3.00      571.00   \n",
              "75%      190.00      3.00      3.00            2.00      8.00     1287.00   \n",
              "95%      400.00      4.00      5.00            5.00     16.00     3200.00   \n",
              "99%      660.00      6.00      6.00            8.00     22.00     5048.28   \n",
              "max    46335.00     13.00     10.00           12.00     51.00  1117000.00   \n",
              "\n",
              "       rent amount (R$)  property tax (R$)  fire insurance (R$)  total (R$)  \n",
              "count          10333.00           10333.00             10333.00    10333.00  \n",
              "mean            3966.43             376.95                54.27     5489.13  \n",
              "std             3436.33            3160.75                48.17    12669.71  \n",
              "min              450.00               0.00                 3.00      499.00  \n",
              "25%             1598.00              41.00                21.00     2116.00  \n",
              "50%             2750.00             130.00                37.00     3686.00  \n",
              "75%             5000.00             390.00                70.00     6913.00  \n",
              "95%            12000.00            1398.80               162.00    15244.00  \n",
              "99%            15000.00            2723.96               226.00    20531.20  \n",
              "max            45000.00          313700.00               677.00  1120000.00  "
            ],
            "text/html": [
              "\n",
              "  <div id=\"df-bf92880a-92e0-4738-bfa5-e59bcb9f4ac1\">\n",
              "    <div class=\"colab-df-container\">\n",
              "      <div>\n",
              "<style scoped>\n",
              "    .dataframe tbody tr th:only-of-type {\n",
              "        vertical-align: middle;\n",
              "    }\n",
              "\n",
              "    .dataframe tbody tr th {\n",
              "        vertical-align: top;\n",
              "    }\n",
              "\n",
              "    .dataframe thead th {\n",
              "        text-align: right;\n",
              "    }\n",
              "</style>\n",
              "<table border=\"1\" class=\"dataframe\">\n",
              "  <thead>\n",
              "    <tr style=\"text-align: right;\">\n",
              "      <th></th>\n",
              "      <th>area</th>\n",
              "      <th>rooms</th>\n",
              "      <th>bathroom</th>\n",
              "      <th>parking spaces</th>\n",
              "      <th>floors</th>\n",
              "      <th>hoa (R$)</th>\n",
              "      <th>rent amount (R$)</th>\n",
              "      <th>property tax (R$)</th>\n",
              "      <th>fire insurance (R$)</th>\n",
              "      <th>total (R$)</th>\n",
              "    </tr>\n",
              "  </thead>\n",
              "  <tbody>\n",
              "    <tr>\n",
              "      <th>count</th>\n",
              "      <td>10333.00</td>\n",
              "      <td>10333.00</td>\n",
              "      <td>10333.00</td>\n",
              "      <td>10333.00</td>\n",
              "      <td>10333.00</td>\n",
              "      <td>10333.00</td>\n",
              "      <td>10333.00</td>\n",
              "      <td>10333.00</td>\n",
              "      <td>10333.00</td>\n",
              "      <td>10333.00</td>\n",
              "    </tr>\n",
              "    <tr>\n",
              "      <th>mean</th>\n",
              "      <td>152.45</td>\n",
              "      <td>2.54</td>\n",
              "      <td>2.27</td>\n",
              "      <td>1.64</td>\n",
              "      <td>5.07</td>\n",
              "      <td>1091.28</td>\n",
              "      <td>3966.43</td>\n",
              "      <td>376.95</td>\n",
              "      <td>54.27</td>\n",
              "      <td>5489.13</td>\n",
              "    </tr>\n",
              "    <tr>\n",
              "      <th>std</th>\n",
              "      <td>545.90</td>\n",
              "      <td>1.17</td>\n",
              "      <td>1.41</td>\n",
              "      <td>1.60</td>\n",
              "      <td>5.32</td>\n",
              "      <td>11446.65</td>\n",
              "      <td>3436.33</td>\n",
              "      <td>3160.75</td>\n",
              "      <td>48.17</td>\n",
              "      <td>12669.71</td>\n",
              "    </tr>\n",
              "    <tr>\n",
              "      <th>min</th>\n",
              "      <td>11.00</td>\n",
              "      <td>1.00</td>\n",
              "      <td>1.00</td>\n",
              "      <td>0.00</td>\n",
              "      <td>0.00</td>\n",
              "      <td>0.00</td>\n",
              "      <td>450.00</td>\n",
              "      <td>0.00</td>\n",
              "      <td>3.00</td>\n",
              "      <td>499.00</td>\n",
              "    </tr>\n",
              "    <tr>\n",
              "      <th>25%</th>\n",
              "      <td>59.00</td>\n",
              "      <td>2.00</td>\n",
              "      <td>1.00</td>\n",
              "      <td>1.00</td>\n",
              "      <td>1.00</td>\n",
              "      <td>180.00</td>\n",
              "      <td>1598.00</td>\n",
              "      <td>41.00</td>\n",
              "      <td>21.00</td>\n",
              "      <td>2116.00</td>\n",
              "    </tr>\n",
              "    <tr>\n",
              "      <th>50%</th>\n",
              "      <td>95.00</td>\n",
              "      <td>3.00</td>\n",
              "      <td>2.00</td>\n",
              "      <td>1.00</td>\n",
              "      <td>3.00</td>\n",
              "      <td>571.00</td>\n",
              "      <td>2750.00</td>\n",
              "      <td>130.00</td>\n",
              "      <td>37.00</td>\n",
              "      <td>3686.00</td>\n",
              "    </tr>\n",
              "    <tr>\n",
              "      <th>75%</th>\n",
              "      <td>190.00</td>\n",
              "      <td>3.00</td>\n",
              "      <td>3.00</td>\n",
              "      <td>2.00</td>\n",
              "      <td>8.00</td>\n",
              "      <td>1287.00</td>\n",
              "      <td>5000.00</td>\n",
              "      <td>390.00</td>\n",
              "      <td>70.00</td>\n",
              "      <td>6913.00</td>\n",
              "    </tr>\n",
              "    <tr>\n",
              "      <th>95%</th>\n",
              "      <td>400.00</td>\n",
              "      <td>4.00</td>\n",
              "      <td>5.00</td>\n",
              "      <td>5.00</td>\n",
              "      <td>16.00</td>\n",
              "      <td>3200.00</td>\n",
              "      <td>12000.00</td>\n",
              "      <td>1398.80</td>\n",
              "      <td>162.00</td>\n",
              "      <td>15244.00</td>\n",
              "    </tr>\n",
              "    <tr>\n",
              "      <th>99%</th>\n",
              "      <td>660.00</td>\n",
              "      <td>6.00</td>\n",
              "      <td>6.00</td>\n",
              "      <td>8.00</td>\n",
              "      <td>22.00</td>\n",
              "      <td>5048.28</td>\n",
              "      <td>15000.00</td>\n",
              "      <td>2723.96</td>\n",
              "      <td>226.00</td>\n",
              "      <td>20531.20</td>\n",
              "    </tr>\n",
              "    <tr>\n",
              "      <th>max</th>\n",
              "      <td>46335.00</td>\n",
              "      <td>13.00</td>\n",
              "      <td>10.00</td>\n",
              "      <td>12.00</td>\n",
              "      <td>51.00</td>\n",
              "      <td>1117000.00</td>\n",
              "      <td>45000.00</td>\n",
              "      <td>313700.00</td>\n",
              "      <td>677.00</td>\n",
              "      <td>1120000.00</td>\n",
              "    </tr>\n",
              "  </tbody>\n",
              "</table>\n",
              "</div>\n",
              "      <button class=\"colab-df-convert\" onclick=\"convertToInteractive('df-bf92880a-92e0-4738-bfa5-e59bcb9f4ac1')\"\n",
              "              title=\"Convert this dataframe to an interactive table.\"\n",
              "              style=\"display:none;\">\n",
              "        \n",
              "  <svg xmlns=\"http://www.w3.org/2000/svg\" height=\"24px\"viewBox=\"0 0 24 24\"\n",
              "       width=\"24px\">\n",
              "    <path d=\"M0 0h24v24H0V0z\" fill=\"none\"/>\n",
              "    <path d=\"M18.56 5.44l.94 2.06.94-2.06 2.06-.94-2.06-.94-.94-2.06-.94 2.06-2.06.94zm-11 1L8.5 8.5l.94-2.06 2.06-.94-2.06-.94L8.5 2.5l-.94 2.06-2.06.94zm10 10l.94 2.06.94-2.06 2.06-.94-2.06-.94-.94-2.06-.94 2.06-2.06.94z\"/><path d=\"M17.41 7.96l-1.37-1.37c-.4-.4-.92-.59-1.43-.59-.52 0-1.04.2-1.43.59L10.3 9.45l-7.72 7.72c-.78.78-.78 2.05 0 2.83L4 21.41c.39.39.9.59 1.41.59.51 0 1.02-.2 1.41-.59l7.78-7.78 2.81-2.81c.8-.78.8-2.07 0-2.86zM5.41 20L4 18.59l7.72-7.72 1.47 1.35L5.41 20z\"/>\n",
              "  </svg>\n",
              "      </button>\n",
              "      \n",
              "  <style>\n",
              "    .colab-df-container {\n",
              "      display:flex;\n",
              "      flex-wrap:wrap;\n",
              "      gap: 12px;\n",
              "    }\n",
              "\n",
              "    .colab-df-convert {\n",
              "      background-color: #E8F0FE;\n",
              "      border: none;\n",
              "      border-radius: 50%;\n",
              "      cursor: pointer;\n",
              "      display: none;\n",
              "      fill: #1967D2;\n",
              "      height: 32px;\n",
              "      padding: 0 0 0 0;\n",
              "      width: 32px;\n",
              "    }\n",
              "\n",
              "    .colab-df-convert:hover {\n",
              "      background-color: #E2EBFA;\n",
              "      box-shadow: 0px 1px 2px rgba(60, 64, 67, 0.3), 0px 1px 3px 1px rgba(60, 64, 67, 0.15);\n",
              "      fill: #174EA6;\n",
              "    }\n",
              "\n",
              "    [theme=dark] .colab-df-convert {\n",
              "      background-color: #3B4455;\n",
              "      fill: #D2E3FC;\n",
              "    }\n",
              "\n",
              "    [theme=dark] .colab-df-convert:hover {\n",
              "      background-color: #434B5C;\n",
              "      box-shadow: 0px 1px 3px 1px rgba(0, 0, 0, 0.15);\n",
              "      filter: drop-shadow(0px 1px 2px rgba(0, 0, 0, 0.3));\n",
              "      fill: #FFFFFF;\n",
              "    }\n",
              "  </style>\n",
              "\n",
              "      <script>\n",
              "        const buttonEl =\n",
              "          document.querySelector('#df-bf92880a-92e0-4738-bfa5-e59bcb9f4ac1 button.colab-df-convert');\n",
              "        buttonEl.style.display =\n",
              "          google.colab.kernel.accessAllowed ? 'block' : 'none';\n",
              "\n",
              "        async function convertToInteractive(key) {\n",
              "          const element = document.querySelector('#df-bf92880a-92e0-4738-bfa5-e59bcb9f4ac1');\n",
              "          const dataTable =\n",
              "            await google.colab.kernel.invokeFunction('convertToInteractive',\n",
              "                                                     [key], {});\n",
              "          if (!dataTable) return;\n",
              "\n",
              "          const docLinkHtml = 'Like what you see? Visit the ' +\n",
              "            '<a target=\"_blank\" href=https://colab.research.google.com/notebooks/data_table.ipynb>data table notebook</a>'\n",
              "            + ' to learn more about interactive tables.';\n",
              "          element.innerHTML = '';\n",
              "          dataTable['output_type'] = 'display_data';\n",
              "          await google.colab.output.renderOutput(dataTable, element);\n",
              "          const docLink = document.createElement('div');\n",
              "          docLink.innerHTML = docLinkHtml;\n",
              "          element.appendChild(docLink);\n",
              "        }\n",
              "      </script>\n",
              "    </div>\n",
              "  </div>\n",
              "  "
            ]
          },
          "metadata": {},
          "execution_count": 143
        }
      ]
    },
    {
      "cell_type": "markdown",
      "source": [
        "- Verificando as medidas de resumo, podemos perceber valores discrepantes presentes em algumas colunas. Vamos explorar mais um pouco pra entender melhor e tomar uma decisão."
      ],
      "metadata": {
        "id": "Fgie8R5SMuxR"
      }
    },
    {
      "cell_type": "code",
      "source": [
        "# Analisando os valores maiores que 50000 presentes na variável 'total (R$)'\n",
        "big_price = df_alterado[df_alterado['total (R$)'] > 50000]\n",
        "big_price"
      ],
      "metadata": {
        "colab": {
          "base_uri": "https://localhost:8080/",
          "height": 440
        },
        "id": "lzuAGoPgACpG",
        "outputId": "8553346c-06dc-4964-99a4-63daaf9589aa"
      },
      "execution_count": 144,
      "outputs": [
        {
          "output_type": "execute_result",
          "data": {
            "text/plain": [
              "                city  area  rooms  bathroom  parking spaces  floors  \\\n",
              "255   Belo Horizonte   155      1         4               0       4   \n",
              "2182       São Paulo   700      4         7               8       0   \n",
              "2859       São Paulo   285      4         5               4       6   \n",
              "2928  Rio de Janeiro    35      1         1               0       1   \n",
              "6230       São Paulo   340      5         4               2       7   \n",
              "6645       São Paulo    42      1         2               1       6   \n",
              "\n",
              "         animal      furniture  hoa (R$)  rent amount (R$)  property tax (R$)  \\\n",
              "255   not acept  not furnished   1117000              2790                 64   \n",
              "2182      acept  not furnished         0             45000               8750   \n",
              "2859      acept      furnished    200000             20000               1834   \n",
              "2928      acept      furnished     81150              4500               9900   \n",
              "6230      acept  not furnished    220000             12000               1000   \n",
              "6645  not acept  not furnished       690              2500             313700   \n",
              "\n",
              "      fire insurance (R$)  total (R$)  \n",
              "255                    38     1120000  \n",
              "2182                  677       54430  \n",
              "2859                  254      222100  \n",
              "2928                   58       95610  \n",
              "6230                  153      233200  \n",
              "6645                   32      316900  "
            ],
            "text/html": [
              "\n",
              "  <div id=\"df-b8da387f-7656-4c26-a764-ae444c21001d\">\n",
              "    <div class=\"colab-df-container\">\n",
              "      <div>\n",
              "<style scoped>\n",
              "    .dataframe tbody tr th:only-of-type {\n",
              "        vertical-align: middle;\n",
              "    }\n",
              "\n",
              "    .dataframe tbody tr th {\n",
              "        vertical-align: top;\n",
              "    }\n",
              "\n",
              "    .dataframe thead th {\n",
              "        text-align: right;\n",
              "    }\n",
              "</style>\n",
              "<table border=\"1\" class=\"dataframe\">\n",
              "  <thead>\n",
              "    <tr style=\"text-align: right;\">\n",
              "      <th></th>\n",
              "      <th>city</th>\n",
              "      <th>area</th>\n",
              "      <th>rooms</th>\n",
              "      <th>bathroom</th>\n",
              "      <th>parking spaces</th>\n",
              "      <th>floors</th>\n",
              "      <th>animal</th>\n",
              "      <th>furniture</th>\n",
              "      <th>hoa (R$)</th>\n",
              "      <th>rent amount (R$)</th>\n",
              "      <th>property tax (R$)</th>\n",
              "      <th>fire insurance (R$)</th>\n",
              "      <th>total (R$)</th>\n",
              "    </tr>\n",
              "  </thead>\n",
              "  <tbody>\n",
              "    <tr>\n",
              "      <th>255</th>\n",
              "      <td>Belo Horizonte</td>\n",
              "      <td>155</td>\n",
              "      <td>1</td>\n",
              "      <td>4</td>\n",
              "      <td>0</td>\n",
              "      <td>4</td>\n",
              "      <td>not acept</td>\n",
              "      <td>not furnished</td>\n",
              "      <td>1117000</td>\n",
              "      <td>2790</td>\n",
              "      <td>64</td>\n",
              "      <td>38</td>\n",
              "      <td>1120000</td>\n",
              "    </tr>\n",
              "    <tr>\n",
              "      <th>2182</th>\n",
              "      <td>São Paulo</td>\n",
              "      <td>700</td>\n",
              "      <td>4</td>\n",
              "      <td>7</td>\n",
              "      <td>8</td>\n",
              "      <td>0</td>\n",
              "      <td>acept</td>\n",
              "      <td>not furnished</td>\n",
              "      <td>0</td>\n",
              "      <td>45000</td>\n",
              "      <td>8750</td>\n",
              "      <td>677</td>\n",
              "      <td>54430</td>\n",
              "    </tr>\n",
              "    <tr>\n",
              "      <th>2859</th>\n",
              "      <td>São Paulo</td>\n",
              "      <td>285</td>\n",
              "      <td>4</td>\n",
              "      <td>5</td>\n",
              "      <td>4</td>\n",
              "      <td>6</td>\n",
              "      <td>acept</td>\n",
              "      <td>furnished</td>\n",
              "      <td>200000</td>\n",
              "      <td>20000</td>\n",
              "      <td>1834</td>\n",
              "      <td>254</td>\n",
              "      <td>222100</td>\n",
              "    </tr>\n",
              "    <tr>\n",
              "      <th>2928</th>\n",
              "      <td>Rio de Janeiro</td>\n",
              "      <td>35</td>\n",
              "      <td>1</td>\n",
              "      <td>1</td>\n",
              "      <td>0</td>\n",
              "      <td>1</td>\n",
              "      <td>acept</td>\n",
              "      <td>furnished</td>\n",
              "      <td>81150</td>\n",
              "      <td>4500</td>\n",
              "      <td>9900</td>\n",
              "      <td>58</td>\n",
              "      <td>95610</td>\n",
              "    </tr>\n",
              "    <tr>\n",
              "      <th>6230</th>\n",
              "      <td>São Paulo</td>\n",
              "      <td>340</td>\n",
              "      <td>5</td>\n",
              "      <td>4</td>\n",
              "      <td>2</td>\n",
              "      <td>7</td>\n",
              "      <td>acept</td>\n",
              "      <td>not furnished</td>\n",
              "      <td>220000</td>\n",
              "      <td>12000</td>\n",
              "      <td>1000</td>\n",
              "      <td>153</td>\n",
              "      <td>233200</td>\n",
              "    </tr>\n",
              "    <tr>\n",
              "      <th>6645</th>\n",
              "      <td>São Paulo</td>\n",
              "      <td>42</td>\n",
              "      <td>1</td>\n",
              "      <td>2</td>\n",
              "      <td>1</td>\n",
              "      <td>6</td>\n",
              "      <td>not acept</td>\n",
              "      <td>not furnished</td>\n",
              "      <td>690</td>\n",
              "      <td>2500</td>\n",
              "      <td>313700</td>\n",
              "      <td>32</td>\n",
              "      <td>316900</td>\n",
              "    </tr>\n",
              "  </tbody>\n",
              "</table>\n",
              "</div>\n",
              "      <button class=\"colab-df-convert\" onclick=\"convertToInteractive('df-b8da387f-7656-4c26-a764-ae444c21001d')\"\n",
              "              title=\"Convert this dataframe to an interactive table.\"\n",
              "              style=\"display:none;\">\n",
              "        \n",
              "  <svg xmlns=\"http://www.w3.org/2000/svg\" height=\"24px\"viewBox=\"0 0 24 24\"\n",
              "       width=\"24px\">\n",
              "    <path d=\"M0 0h24v24H0V0z\" fill=\"none\"/>\n",
              "    <path d=\"M18.56 5.44l.94 2.06.94-2.06 2.06-.94-2.06-.94-.94-2.06-.94 2.06-2.06.94zm-11 1L8.5 8.5l.94-2.06 2.06-.94-2.06-.94L8.5 2.5l-.94 2.06-2.06.94zm10 10l.94 2.06.94-2.06 2.06-.94-2.06-.94-.94-2.06-.94 2.06-2.06.94z\"/><path d=\"M17.41 7.96l-1.37-1.37c-.4-.4-.92-.59-1.43-.59-.52 0-1.04.2-1.43.59L10.3 9.45l-7.72 7.72c-.78.78-.78 2.05 0 2.83L4 21.41c.39.39.9.59 1.41.59.51 0 1.02-.2 1.41-.59l7.78-7.78 2.81-2.81c.8-.78.8-2.07 0-2.86zM5.41 20L4 18.59l7.72-7.72 1.47 1.35L5.41 20z\"/>\n",
              "  </svg>\n",
              "      </button>\n",
              "      \n",
              "  <style>\n",
              "    .colab-df-container {\n",
              "      display:flex;\n",
              "      flex-wrap:wrap;\n",
              "      gap: 12px;\n",
              "    }\n",
              "\n",
              "    .colab-df-convert {\n",
              "      background-color: #E8F0FE;\n",
              "      border: none;\n",
              "      border-radius: 50%;\n",
              "      cursor: pointer;\n",
              "      display: none;\n",
              "      fill: #1967D2;\n",
              "      height: 32px;\n",
              "      padding: 0 0 0 0;\n",
              "      width: 32px;\n",
              "    }\n",
              "\n",
              "    .colab-df-convert:hover {\n",
              "      background-color: #E2EBFA;\n",
              "      box-shadow: 0px 1px 2px rgba(60, 64, 67, 0.3), 0px 1px 3px 1px rgba(60, 64, 67, 0.15);\n",
              "      fill: #174EA6;\n",
              "    }\n",
              "\n",
              "    [theme=dark] .colab-df-convert {\n",
              "      background-color: #3B4455;\n",
              "      fill: #D2E3FC;\n",
              "    }\n",
              "\n",
              "    [theme=dark] .colab-df-convert:hover {\n",
              "      background-color: #434B5C;\n",
              "      box-shadow: 0px 1px 3px 1px rgba(0, 0, 0, 0.15);\n",
              "      filter: drop-shadow(0px 1px 2px rgba(0, 0, 0, 0.3));\n",
              "      fill: #FFFFFF;\n",
              "    }\n",
              "  </style>\n",
              "\n",
              "      <script>\n",
              "        const buttonEl =\n",
              "          document.querySelector('#df-b8da387f-7656-4c26-a764-ae444c21001d button.colab-df-convert');\n",
              "        buttonEl.style.display =\n",
              "          google.colab.kernel.accessAllowed ? 'block' : 'none';\n",
              "\n",
              "        async function convertToInteractive(key) {\n",
              "          const element = document.querySelector('#df-b8da387f-7656-4c26-a764-ae444c21001d');\n",
              "          const dataTable =\n",
              "            await google.colab.kernel.invokeFunction('convertToInteractive',\n",
              "                                                     [key], {});\n",
              "          if (!dataTable) return;\n",
              "\n",
              "          const docLinkHtml = 'Like what you see? Visit the ' +\n",
              "            '<a target=\"_blank\" href=https://colab.research.google.com/notebooks/data_table.ipynb>data table notebook</a>'\n",
              "            + ' to learn more about interactive tables.';\n",
              "          element.innerHTML = '';\n",
              "          dataTable['output_type'] = 'display_data';\n",
              "          await google.colab.output.renderOutput(dataTable, element);\n",
              "          const docLink = document.createElement('div');\n",
              "          docLink.innerHTML = docLinkHtml;\n",
              "          element.appendChild(docLink);\n",
              "        }\n",
              "      </script>\n",
              "    </div>\n",
              "  </div>\n",
              "  "
            ]
          },
          "metadata": {},
          "execution_count": 144
        }
      ]
    },
    {
      "cell_type": "markdown",
      "source": [
        "- Na coluna Total, existem 6 valores muito discrepantes que podem induzir a uma análise errada. Optarei por retirar esses valores da análise."
      ],
      "metadata": {
        "id": "4x14azPZOvP9"
      }
    },
    {
      "cell_type": "code",
      "source": [
        "# Retirando os valores encontrados\n",
        "df_alterado = df_alterado.drop(big_price.index)"
      ],
      "metadata": {
        "id": "FPa-t5K3AT-P"
      },
      "execution_count": 145,
      "outputs": []
    },
    {
      "cell_type": "code",
      "source": [
        "# Analisando os valores maiores que 100000 presentes na variável 'property tax (R$)'\n",
        "big_prop = df_alterado[df_alterado['property tax (R$)'] > 30000]\n",
        "big_prop"
      ],
      "metadata": {
        "colab": {
          "base_uri": "https://localhost:8080/",
          "height": 128
        },
        "id": "frGb8w46co50",
        "outputId": "73078a20-3e1f-4bb4-8e21-cad2bd8ba60b"
      },
      "execution_count": 146,
      "outputs": [
        {
          "output_type": "execute_result",
          "data": {
            "text/plain": [
              "Empty DataFrame\n",
              "Columns: [city, area, rooms, bathroom, parking spaces, floors, animal, furniture, hoa (R$), rent amount (R$), property tax (R$), fire insurance (R$), total (R$)]\n",
              "Index: []"
            ],
            "text/html": [
              "\n",
              "  <div id=\"df-8fe38e98-87a6-4b1e-9e6f-b94efe60d728\">\n",
              "    <div class=\"colab-df-container\">\n",
              "      <div>\n",
              "<style scoped>\n",
              "    .dataframe tbody tr th:only-of-type {\n",
              "        vertical-align: middle;\n",
              "    }\n",
              "\n",
              "    .dataframe tbody tr th {\n",
              "        vertical-align: top;\n",
              "    }\n",
              "\n",
              "    .dataframe thead th {\n",
              "        text-align: right;\n",
              "    }\n",
              "</style>\n",
              "<table border=\"1\" class=\"dataframe\">\n",
              "  <thead>\n",
              "    <tr style=\"text-align: right;\">\n",
              "      <th></th>\n",
              "      <th>city</th>\n",
              "      <th>area</th>\n",
              "      <th>rooms</th>\n",
              "      <th>bathroom</th>\n",
              "      <th>parking spaces</th>\n",
              "      <th>floors</th>\n",
              "      <th>animal</th>\n",
              "      <th>furniture</th>\n",
              "      <th>hoa (R$)</th>\n",
              "      <th>rent amount (R$)</th>\n",
              "      <th>property tax (R$)</th>\n",
              "      <th>fire insurance (R$)</th>\n",
              "      <th>total (R$)</th>\n",
              "    </tr>\n",
              "  </thead>\n",
              "  <tbody>\n",
              "  </tbody>\n",
              "</table>\n",
              "</div>\n",
              "      <button class=\"colab-df-convert\" onclick=\"convertToInteractive('df-8fe38e98-87a6-4b1e-9e6f-b94efe60d728')\"\n",
              "              title=\"Convert this dataframe to an interactive table.\"\n",
              "              style=\"display:none;\">\n",
              "        \n",
              "  <svg xmlns=\"http://www.w3.org/2000/svg\" height=\"24px\"viewBox=\"0 0 24 24\"\n",
              "       width=\"24px\">\n",
              "    <path d=\"M0 0h24v24H0V0z\" fill=\"none\"/>\n",
              "    <path d=\"M18.56 5.44l.94 2.06.94-2.06 2.06-.94-2.06-.94-.94-2.06-.94 2.06-2.06.94zm-11 1L8.5 8.5l.94-2.06 2.06-.94-2.06-.94L8.5 2.5l-.94 2.06-2.06.94zm10 10l.94 2.06.94-2.06 2.06-.94-2.06-.94-.94-2.06-.94 2.06-2.06.94z\"/><path d=\"M17.41 7.96l-1.37-1.37c-.4-.4-.92-.59-1.43-.59-.52 0-1.04.2-1.43.59L10.3 9.45l-7.72 7.72c-.78.78-.78 2.05 0 2.83L4 21.41c.39.39.9.59 1.41.59.51 0 1.02-.2 1.41-.59l7.78-7.78 2.81-2.81c.8-.78.8-2.07 0-2.86zM5.41 20L4 18.59l7.72-7.72 1.47 1.35L5.41 20z\"/>\n",
              "  </svg>\n",
              "      </button>\n",
              "      \n",
              "  <style>\n",
              "    .colab-df-container {\n",
              "      display:flex;\n",
              "      flex-wrap:wrap;\n",
              "      gap: 12px;\n",
              "    }\n",
              "\n",
              "    .colab-df-convert {\n",
              "      background-color: #E8F0FE;\n",
              "      border: none;\n",
              "      border-radius: 50%;\n",
              "      cursor: pointer;\n",
              "      display: none;\n",
              "      fill: #1967D2;\n",
              "      height: 32px;\n",
              "      padding: 0 0 0 0;\n",
              "      width: 32px;\n",
              "    }\n",
              "\n",
              "    .colab-df-convert:hover {\n",
              "      background-color: #E2EBFA;\n",
              "      box-shadow: 0px 1px 2px rgba(60, 64, 67, 0.3), 0px 1px 3px 1px rgba(60, 64, 67, 0.15);\n",
              "      fill: #174EA6;\n",
              "    }\n",
              "\n",
              "    [theme=dark] .colab-df-convert {\n",
              "      background-color: #3B4455;\n",
              "      fill: #D2E3FC;\n",
              "    }\n",
              "\n",
              "    [theme=dark] .colab-df-convert:hover {\n",
              "      background-color: #434B5C;\n",
              "      box-shadow: 0px 1px 3px 1px rgba(0, 0, 0, 0.15);\n",
              "      filter: drop-shadow(0px 1px 2px rgba(0, 0, 0, 0.3));\n",
              "      fill: #FFFFFF;\n",
              "    }\n",
              "  </style>\n",
              "\n",
              "      <script>\n",
              "        const buttonEl =\n",
              "          document.querySelector('#df-8fe38e98-87a6-4b1e-9e6f-b94efe60d728 button.colab-df-convert');\n",
              "        buttonEl.style.display =\n",
              "          google.colab.kernel.accessAllowed ? 'block' : 'none';\n",
              "\n",
              "        async function convertToInteractive(key) {\n",
              "          const element = document.querySelector('#df-8fe38e98-87a6-4b1e-9e6f-b94efe60d728');\n",
              "          const dataTable =\n",
              "            await google.colab.kernel.invokeFunction('convertToInteractive',\n",
              "                                                     [key], {});\n",
              "          if (!dataTable) return;\n",
              "\n",
              "          const docLinkHtml = 'Like what you see? Visit the ' +\n",
              "            '<a target=\"_blank\" href=https://colab.research.google.com/notebooks/data_table.ipynb>data table notebook</a>'\n",
              "            + ' to learn more about interactive tables.';\n",
              "          element.innerHTML = '';\n",
              "          dataTable['output_type'] = 'display_data';\n",
              "          await google.colab.output.renderOutput(dataTable, element);\n",
              "          const docLink = document.createElement('div');\n",
              "          docLink.innerHTML = docLinkHtml;\n",
              "          element.appendChild(docLink);\n",
              "        }\n",
              "      </script>\n",
              "    </div>\n",
              "  </div>\n",
              "  "
            ]
          },
          "metadata": {},
          "execution_count": 146
        }
      ]
    },
    {
      "cell_type": "code",
      "source": [
        "# Analisando os valores maiores que 100000 presentes na variável 'hoa (R$)'\n",
        "big_hoa = df_alterado[df_alterado['hoa (R$)'] > 100000]\n",
        "big_hoa"
      ],
      "metadata": {
        "colab": {
          "base_uri": "https://localhost:8080/",
          "height": 128
        },
        "id": "P_a87Uk_Ycda",
        "outputId": "e3310538-20bf-4030-c7b7-e7a3cc5818e4"
      },
      "execution_count": 147,
      "outputs": [
        {
          "output_type": "execute_result",
          "data": {
            "text/plain": [
              "Empty DataFrame\n",
              "Columns: [city, area, rooms, bathroom, parking spaces, floors, animal, furniture, hoa (R$), rent amount (R$), property tax (R$), fire insurance (R$), total (R$)]\n",
              "Index: []"
            ],
            "text/html": [
              "\n",
              "  <div id=\"df-815e0424-1b43-46f3-901a-51ac3013f637\">\n",
              "    <div class=\"colab-df-container\">\n",
              "      <div>\n",
              "<style scoped>\n",
              "    .dataframe tbody tr th:only-of-type {\n",
              "        vertical-align: middle;\n",
              "    }\n",
              "\n",
              "    .dataframe tbody tr th {\n",
              "        vertical-align: top;\n",
              "    }\n",
              "\n",
              "    .dataframe thead th {\n",
              "        text-align: right;\n",
              "    }\n",
              "</style>\n",
              "<table border=\"1\" class=\"dataframe\">\n",
              "  <thead>\n",
              "    <tr style=\"text-align: right;\">\n",
              "      <th></th>\n",
              "      <th>city</th>\n",
              "      <th>area</th>\n",
              "      <th>rooms</th>\n",
              "      <th>bathroom</th>\n",
              "      <th>parking spaces</th>\n",
              "      <th>floors</th>\n",
              "      <th>animal</th>\n",
              "      <th>furniture</th>\n",
              "      <th>hoa (R$)</th>\n",
              "      <th>rent amount (R$)</th>\n",
              "      <th>property tax (R$)</th>\n",
              "      <th>fire insurance (R$)</th>\n",
              "      <th>total (R$)</th>\n",
              "    </tr>\n",
              "  </thead>\n",
              "  <tbody>\n",
              "  </tbody>\n",
              "</table>\n",
              "</div>\n",
              "      <button class=\"colab-df-convert\" onclick=\"convertToInteractive('df-815e0424-1b43-46f3-901a-51ac3013f637')\"\n",
              "              title=\"Convert this dataframe to an interactive table.\"\n",
              "              style=\"display:none;\">\n",
              "        \n",
              "  <svg xmlns=\"http://www.w3.org/2000/svg\" height=\"24px\"viewBox=\"0 0 24 24\"\n",
              "       width=\"24px\">\n",
              "    <path d=\"M0 0h24v24H0V0z\" fill=\"none\"/>\n",
              "    <path d=\"M18.56 5.44l.94 2.06.94-2.06 2.06-.94-2.06-.94-.94-2.06-.94 2.06-2.06.94zm-11 1L8.5 8.5l.94-2.06 2.06-.94-2.06-.94L8.5 2.5l-.94 2.06-2.06.94zm10 10l.94 2.06.94-2.06 2.06-.94-2.06-.94-.94-2.06-.94 2.06-2.06.94z\"/><path d=\"M17.41 7.96l-1.37-1.37c-.4-.4-.92-.59-1.43-.59-.52 0-1.04.2-1.43.59L10.3 9.45l-7.72 7.72c-.78.78-.78 2.05 0 2.83L4 21.41c.39.39.9.59 1.41.59.51 0 1.02-.2 1.41-.59l7.78-7.78 2.81-2.81c.8-.78.8-2.07 0-2.86zM5.41 20L4 18.59l7.72-7.72 1.47 1.35L5.41 20z\"/>\n",
              "  </svg>\n",
              "      </button>\n",
              "      \n",
              "  <style>\n",
              "    .colab-df-container {\n",
              "      display:flex;\n",
              "      flex-wrap:wrap;\n",
              "      gap: 12px;\n",
              "    }\n",
              "\n",
              "    .colab-df-convert {\n",
              "      background-color: #E8F0FE;\n",
              "      border: none;\n",
              "      border-radius: 50%;\n",
              "      cursor: pointer;\n",
              "      display: none;\n",
              "      fill: #1967D2;\n",
              "      height: 32px;\n",
              "      padding: 0 0 0 0;\n",
              "      width: 32px;\n",
              "    }\n",
              "\n",
              "    .colab-df-convert:hover {\n",
              "      background-color: #E2EBFA;\n",
              "      box-shadow: 0px 1px 2px rgba(60, 64, 67, 0.3), 0px 1px 3px 1px rgba(60, 64, 67, 0.15);\n",
              "      fill: #174EA6;\n",
              "    }\n",
              "\n",
              "    [theme=dark] .colab-df-convert {\n",
              "      background-color: #3B4455;\n",
              "      fill: #D2E3FC;\n",
              "    }\n",
              "\n",
              "    [theme=dark] .colab-df-convert:hover {\n",
              "      background-color: #434B5C;\n",
              "      box-shadow: 0px 1px 3px 1px rgba(0, 0, 0, 0.15);\n",
              "      filter: drop-shadow(0px 1px 2px rgba(0, 0, 0, 0.3));\n",
              "      fill: #FFFFFF;\n",
              "    }\n",
              "  </style>\n",
              "\n",
              "      <script>\n",
              "        const buttonEl =\n",
              "          document.querySelector('#df-815e0424-1b43-46f3-901a-51ac3013f637 button.colab-df-convert');\n",
              "        buttonEl.style.display =\n",
              "          google.colab.kernel.accessAllowed ? 'block' : 'none';\n",
              "\n",
              "        async function convertToInteractive(key) {\n",
              "          const element = document.querySelector('#df-815e0424-1b43-46f3-901a-51ac3013f637');\n",
              "          const dataTable =\n",
              "            await google.colab.kernel.invokeFunction('convertToInteractive',\n",
              "                                                     [key], {});\n",
              "          if (!dataTable) return;\n",
              "\n",
              "          const docLinkHtml = 'Like what you see? Visit the ' +\n",
              "            '<a target=\"_blank\" href=https://colab.research.google.com/notebooks/data_table.ipynb>data table notebook</a>'\n",
              "            + ' to learn more about interactive tables.';\n",
              "          element.innerHTML = '';\n",
              "          dataTable['output_type'] = 'display_data';\n",
              "          await google.colab.output.renderOutput(dataTable, element);\n",
              "          const docLink = document.createElement('div');\n",
              "          docLink.innerHTML = docLinkHtml;\n",
              "          element.appendChild(docLink);\n",
              "        }\n",
              "      </script>\n",
              "    </div>\n",
              "  </div>\n",
              "  "
            ]
          },
          "metadata": {},
          "execution_count": 147
        }
      ]
    },
    {
      "cell_type": "markdown",
      "source": [
        "- Quando retiramos os valores discrepantes da variável 'total (R$)', também resolvemos o problema nas demais variáveis acima."
      ],
      "metadata": {
        "id": "snNUw_joaL0Q"
      }
    },
    {
      "cell_type": "code",
      "source": [
        "# Analisando os valores maiores que 20.000 m2 presentes na variável 'area'\n",
        "big_area = df_alterado[df_alterado['area'] > 20000]\n",
        "big_area"
      ],
      "metadata": {
        "colab": {
          "base_uri": "https://localhost:8080/",
          "height": 245
        },
        "id": "-AGqMI0cWW33",
        "outputId": "48f0e56e-fe2b-4e4f-9dfb-efdc4246e453"
      },
      "execution_count": 148,
      "outputs": [
        {
          "output_type": "execute_result",
          "data": {
            "text/plain": [
              "                city   area  rooms  bathroom  parking spaces  floors animal  \\\n",
              "2397  Belo Horizonte  46335      4         8               5      11  acept   \n",
              "5915       São Paulo  24606      5         4               4      12  acept   \n",
              "\n",
              "          furniture  hoa (R$)  rent amount (R$)  property tax (R$)  \\\n",
              "2397      furnished       960              8500                646   \n",
              "5915  not furnished      2254              8100               7859   \n",
              "\n",
              "      fire insurance (R$)  total (R$)  \n",
              "2397                  114       10220  \n",
              "5915                  103       18320  "
            ],
            "text/html": [
              "\n",
              "  <div id=\"df-2f3868f2-c5dc-49c9-b1fe-0218b7288a83\">\n",
              "    <div class=\"colab-df-container\">\n",
              "      <div>\n",
              "<style scoped>\n",
              "    .dataframe tbody tr th:only-of-type {\n",
              "        vertical-align: middle;\n",
              "    }\n",
              "\n",
              "    .dataframe tbody tr th {\n",
              "        vertical-align: top;\n",
              "    }\n",
              "\n",
              "    .dataframe thead th {\n",
              "        text-align: right;\n",
              "    }\n",
              "</style>\n",
              "<table border=\"1\" class=\"dataframe\">\n",
              "  <thead>\n",
              "    <tr style=\"text-align: right;\">\n",
              "      <th></th>\n",
              "      <th>city</th>\n",
              "      <th>area</th>\n",
              "      <th>rooms</th>\n",
              "      <th>bathroom</th>\n",
              "      <th>parking spaces</th>\n",
              "      <th>floors</th>\n",
              "      <th>animal</th>\n",
              "      <th>furniture</th>\n",
              "      <th>hoa (R$)</th>\n",
              "      <th>rent amount (R$)</th>\n",
              "      <th>property tax (R$)</th>\n",
              "      <th>fire insurance (R$)</th>\n",
              "      <th>total (R$)</th>\n",
              "    </tr>\n",
              "  </thead>\n",
              "  <tbody>\n",
              "    <tr>\n",
              "      <th>2397</th>\n",
              "      <td>Belo Horizonte</td>\n",
              "      <td>46335</td>\n",
              "      <td>4</td>\n",
              "      <td>8</td>\n",
              "      <td>5</td>\n",
              "      <td>11</td>\n",
              "      <td>acept</td>\n",
              "      <td>furnished</td>\n",
              "      <td>960</td>\n",
              "      <td>8500</td>\n",
              "      <td>646</td>\n",
              "      <td>114</td>\n",
              "      <td>10220</td>\n",
              "    </tr>\n",
              "    <tr>\n",
              "      <th>5915</th>\n",
              "      <td>São Paulo</td>\n",
              "      <td>24606</td>\n",
              "      <td>5</td>\n",
              "      <td>4</td>\n",
              "      <td>4</td>\n",
              "      <td>12</td>\n",
              "      <td>acept</td>\n",
              "      <td>not furnished</td>\n",
              "      <td>2254</td>\n",
              "      <td>8100</td>\n",
              "      <td>7859</td>\n",
              "      <td>103</td>\n",
              "      <td>18320</td>\n",
              "    </tr>\n",
              "  </tbody>\n",
              "</table>\n",
              "</div>\n",
              "      <button class=\"colab-df-convert\" onclick=\"convertToInteractive('df-2f3868f2-c5dc-49c9-b1fe-0218b7288a83')\"\n",
              "              title=\"Convert this dataframe to an interactive table.\"\n",
              "              style=\"display:none;\">\n",
              "        \n",
              "  <svg xmlns=\"http://www.w3.org/2000/svg\" height=\"24px\"viewBox=\"0 0 24 24\"\n",
              "       width=\"24px\">\n",
              "    <path d=\"M0 0h24v24H0V0z\" fill=\"none\"/>\n",
              "    <path d=\"M18.56 5.44l.94 2.06.94-2.06 2.06-.94-2.06-.94-.94-2.06-.94 2.06-2.06.94zm-11 1L8.5 8.5l.94-2.06 2.06-.94-2.06-.94L8.5 2.5l-.94 2.06-2.06.94zm10 10l.94 2.06.94-2.06 2.06-.94-2.06-.94-.94-2.06-.94 2.06-2.06.94z\"/><path d=\"M17.41 7.96l-1.37-1.37c-.4-.4-.92-.59-1.43-.59-.52 0-1.04.2-1.43.59L10.3 9.45l-7.72 7.72c-.78.78-.78 2.05 0 2.83L4 21.41c.39.39.9.59 1.41.59.51 0 1.02-.2 1.41-.59l7.78-7.78 2.81-2.81c.8-.78.8-2.07 0-2.86zM5.41 20L4 18.59l7.72-7.72 1.47 1.35L5.41 20z\"/>\n",
              "  </svg>\n",
              "      </button>\n",
              "      \n",
              "  <style>\n",
              "    .colab-df-container {\n",
              "      display:flex;\n",
              "      flex-wrap:wrap;\n",
              "      gap: 12px;\n",
              "    }\n",
              "\n",
              "    .colab-df-convert {\n",
              "      background-color: #E8F0FE;\n",
              "      border: none;\n",
              "      border-radius: 50%;\n",
              "      cursor: pointer;\n",
              "      display: none;\n",
              "      fill: #1967D2;\n",
              "      height: 32px;\n",
              "      padding: 0 0 0 0;\n",
              "      width: 32px;\n",
              "    }\n",
              "\n",
              "    .colab-df-convert:hover {\n",
              "      background-color: #E2EBFA;\n",
              "      box-shadow: 0px 1px 2px rgba(60, 64, 67, 0.3), 0px 1px 3px 1px rgba(60, 64, 67, 0.15);\n",
              "      fill: #174EA6;\n",
              "    }\n",
              "\n",
              "    [theme=dark] .colab-df-convert {\n",
              "      background-color: #3B4455;\n",
              "      fill: #D2E3FC;\n",
              "    }\n",
              "\n",
              "    [theme=dark] .colab-df-convert:hover {\n",
              "      background-color: #434B5C;\n",
              "      box-shadow: 0px 1px 3px 1px rgba(0, 0, 0, 0.15);\n",
              "      filter: drop-shadow(0px 1px 2px rgba(0, 0, 0, 0.3));\n",
              "      fill: #FFFFFF;\n",
              "    }\n",
              "  </style>\n",
              "\n",
              "      <script>\n",
              "        const buttonEl =\n",
              "          document.querySelector('#df-2f3868f2-c5dc-49c9-b1fe-0218b7288a83 button.colab-df-convert');\n",
              "        buttonEl.style.display =\n",
              "          google.colab.kernel.accessAllowed ? 'block' : 'none';\n",
              "\n",
              "        async function convertToInteractive(key) {\n",
              "          const element = document.querySelector('#df-2f3868f2-c5dc-49c9-b1fe-0218b7288a83');\n",
              "          const dataTable =\n",
              "            await google.colab.kernel.invokeFunction('convertToInteractive',\n",
              "                                                     [key], {});\n",
              "          if (!dataTable) return;\n",
              "\n",
              "          const docLinkHtml = 'Like what you see? Visit the ' +\n",
              "            '<a target=\"_blank\" href=https://colab.research.google.com/notebooks/data_table.ipynb>data table notebook</a>'\n",
              "            + ' to learn more about interactive tables.';\n",
              "          element.innerHTML = '';\n",
              "          dataTable['output_type'] = 'display_data';\n",
              "          await google.colab.output.renderOutput(dataTable, element);\n",
              "          const docLink = document.createElement('div');\n",
              "          docLink.innerHTML = docLinkHtml;\n",
              "          element.appendChild(docLink);\n",
              "        }\n",
              "      </script>\n",
              "    </div>\n",
              "  </div>\n",
              "  "
            ]
          },
          "metadata": {},
          "execution_count": 148
        }
      ]
    },
    {
      "cell_type": "markdown",
      "source": [
        "Ainda ficamos com valores estranhos para a variável 'area', então vamos retirar esses dois valores encontrados com área maior que 20.000 m2."
      ],
      "metadata": {
        "id": "g1BEDzIyYZqq"
      }
    },
    {
      "cell_type": "code",
      "source": [
        "# Retirando os valores encontrados\n",
        "df_alterado = df_alterado.drop(big_area.index)"
      ],
      "metadata": {
        "id": "sgAprKmTYUvL"
      },
      "execution_count": 149,
      "outputs": []
    },
    {
      "cell_type": "code",
      "source": [
        "# Verificando medidas de resumo após as retiradas\n",
        "df_alterado.describe(percentiles = [.25, .50, .75, .95, .99], include=['int64', 'float64']).round(2)"
      ],
      "metadata": {
        "colab": {
          "base_uri": "https://localhost:8080/",
          "height": 441
        },
        "id": "cRunqNYmZp0Q",
        "outputId": "d8ee6b18-cfe1-45a5-9051-c60ddd53cdeb"
      },
      "execution_count": 150,
      "outputs": [
        {
          "output_type": "execute_result",
          "data": {
            "text/plain": [
              "           area     rooms  bathroom  parking spaces    floors  hoa (R$)  \\\n",
              "count  10325.00  10325.00  10325.00        10325.00  10325.00  10325.00   \n",
              "mean     145.54      2.54      2.27            1.64      5.07    935.02   \n",
              "std      183.43      1.17      1.41            1.60      5.33   1179.19   \n",
              "min       11.00      1.00      1.00            0.00      0.00      0.00   \n",
              "25%       59.00      2.00      1.00            1.00      1.00    180.00   \n",
              "50%       95.00      3.00      2.00            1.00      3.00    570.00   \n",
              "75%      190.00      3.00      3.00            2.00      8.00   1285.00   \n",
              "95%      400.00      4.00      5.00            5.00     16.00   3200.00   \n",
              "99%      650.76      6.00      6.00            8.00     22.00   5000.00   \n",
              "max    12732.00     13.00     10.00           12.00     51.00  32000.00   \n",
              "\n",
              "       rent amount (R$)  property tax (R$)  fire insurance (R$)  total (R$)  \n",
              "count          10325.00           10325.00             10325.00    10325.00  \n",
              "mean            3959.49             343.95                54.17     5292.82  \n",
              "std             3408.70             683.17                47.74     4504.97  \n",
              "min              450.00               0.00                 3.00      499.00  \n",
              "25%             1590.00              40.00                21.00     2114.00  \n",
              "50%             2750.00             130.00                37.00     3683.00  \n",
              "75%             5000.00             386.00                70.00     6903.00  \n",
              "95%            12000.00            1375.00               162.00    15228.00  \n",
              "99%            15000.00            2703.04               226.00    20287.60  \n",
              "max            30000.00           28120.00               451.00    32750.00  "
            ],
            "text/html": [
              "\n",
              "  <div id=\"df-1a5b9d74-59d8-42b5-8c37-5f71b79e9f29\">\n",
              "    <div class=\"colab-df-container\">\n",
              "      <div>\n",
              "<style scoped>\n",
              "    .dataframe tbody tr th:only-of-type {\n",
              "        vertical-align: middle;\n",
              "    }\n",
              "\n",
              "    .dataframe tbody tr th {\n",
              "        vertical-align: top;\n",
              "    }\n",
              "\n",
              "    .dataframe thead th {\n",
              "        text-align: right;\n",
              "    }\n",
              "</style>\n",
              "<table border=\"1\" class=\"dataframe\">\n",
              "  <thead>\n",
              "    <tr style=\"text-align: right;\">\n",
              "      <th></th>\n",
              "      <th>area</th>\n",
              "      <th>rooms</th>\n",
              "      <th>bathroom</th>\n",
              "      <th>parking spaces</th>\n",
              "      <th>floors</th>\n",
              "      <th>hoa (R$)</th>\n",
              "      <th>rent amount (R$)</th>\n",
              "      <th>property tax (R$)</th>\n",
              "      <th>fire insurance (R$)</th>\n",
              "      <th>total (R$)</th>\n",
              "    </tr>\n",
              "  </thead>\n",
              "  <tbody>\n",
              "    <tr>\n",
              "      <th>count</th>\n",
              "      <td>10325.00</td>\n",
              "      <td>10325.00</td>\n",
              "      <td>10325.00</td>\n",
              "      <td>10325.00</td>\n",
              "      <td>10325.00</td>\n",
              "      <td>10325.00</td>\n",
              "      <td>10325.00</td>\n",
              "      <td>10325.00</td>\n",
              "      <td>10325.00</td>\n",
              "      <td>10325.00</td>\n",
              "    </tr>\n",
              "    <tr>\n",
              "      <th>mean</th>\n",
              "      <td>145.54</td>\n",
              "      <td>2.54</td>\n",
              "      <td>2.27</td>\n",
              "      <td>1.64</td>\n",
              "      <td>5.07</td>\n",
              "      <td>935.02</td>\n",
              "      <td>3959.49</td>\n",
              "      <td>343.95</td>\n",
              "      <td>54.17</td>\n",
              "      <td>5292.82</td>\n",
              "    </tr>\n",
              "    <tr>\n",
              "      <th>std</th>\n",
              "      <td>183.43</td>\n",
              "      <td>1.17</td>\n",
              "      <td>1.41</td>\n",
              "      <td>1.60</td>\n",
              "      <td>5.33</td>\n",
              "      <td>1179.19</td>\n",
              "      <td>3408.70</td>\n",
              "      <td>683.17</td>\n",
              "      <td>47.74</td>\n",
              "      <td>4504.97</td>\n",
              "    </tr>\n",
              "    <tr>\n",
              "      <th>min</th>\n",
              "      <td>11.00</td>\n",
              "      <td>1.00</td>\n",
              "      <td>1.00</td>\n",
              "      <td>0.00</td>\n",
              "      <td>0.00</td>\n",
              "      <td>0.00</td>\n",
              "      <td>450.00</td>\n",
              "      <td>0.00</td>\n",
              "      <td>3.00</td>\n",
              "      <td>499.00</td>\n",
              "    </tr>\n",
              "    <tr>\n",
              "      <th>25%</th>\n",
              "      <td>59.00</td>\n",
              "      <td>2.00</td>\n",
              "      <td>1.00</td>\n",
              "      <td>1.00</td>\n",
              "      <td>1.00</td>\n",
              "      <td>180.00</td>\n",
              "      <td>1590.00</td>\n",
              "      <td>40.00</td>\n",
              "      <td>21.00</td>\n",
              "      <td>2114.00</td>\n",
              "    </tr>\n",
              "    <tr>\n",
              "      <th>50%</th>\n",
              "      <td>95.00</td>\n",
              "      <td>3.00</td>\n",
              "      <td>2.00</td>\n",
              "      <td>1.00</td>\n",
              "      <td>3.00</td>\n",
              "      <td>570.00</td>\n",
              "      <td>2750.00</td>\n",
              "      <td>130.00</td>\n",
              "      <td>37.00</td>\n",
              "      <td>3683.00</td>\n",
              "    </tr>\n",
              "    <tr>\n",
              "      <th>75%</th>\n",
              "      <td>190.00</td>\n",
              "      <td>3.00</td>\n",
              "      <td>3.00</td>\n",
              "      <td>2.00</td>\n",
              "      <td>8.00</td>\n",
              "      <td>1285.00</td>\n",
              "      <td>5000.00</td>\n",
              "      <td>386.00</td>\n",
              "      <td>70.00</td>\n",
              "      <td>6903.00</td>\n",
              "    </tr>\n",
              "    <tr>\n",
              "      <th>95%</th>\n",
              "      <td>400.00</td>\n",
              "      <td>4.00</td>\n",
              "      <td>5.00</td>\n",
              "      <td>5.00</td>\n",
              "      <td>16.00</td>\n",
              "      <td>3200.00</td>\n",
              "      <td>12000.00</td>\n",
              "      <td>1375.00</td>\n",
              "      <td>162.00</td>\n",
              "      <td>15228.00</td>\n",
              "    </tr>\n",
              "    <tr>\n",
              "      <th>99%</th>\n",
              "      <td>650.76</td>\n",
              "      <td>6.00</td>\n",
              "      <td>6.00</td>\n",
              "      <td>8.00</td>\n",
              "      <td>22.00</td>\n",
              "      <td>5000.00</td>\n",
              "      <td>15000.00</td>\n",
              "      <td>2703.04</td>\n",
              "      <td>226.00</td>\n",
              "      <td>20287.60</td>\n",
              "    </tr>\n",
              "    <tr>\n",
              "      <th>max</th>\n",
              "      <td>12732.00</td>\n",
              "      <td>13.00</td>\n",
              "      <td>10.00</td>\n",
              "      <td>12.00</td>\n",
              "      <td>51.00</td>\n",
              "      <td>32000.00</td>\n",
              "      <td>30000.00</td>\n",
              "      <td>28120.00</td>\n",
              "      <td>451.00</td>\n",
              "      <td>32750.00</td>\n",
              "    </tr>\n",
              "  </tbody>\n",
              "</table>\n",
              "</div>\n",
              "      <button class=\"colab-df-convert\" onclick=\"convertToInteractive('df-1a5b9d74-59d8-42b5-8c37-5f71b79e9f29')\"\n",
              "              title=\"Convert this dataframe to an interactive table.\"\n",
              "              style=\"display:none;\">\n",
              "        \n",
              "  <svg xmlns=\"http://www.w3.org/2000/svg\" height=\"24px\"viewBox=\"0 0 24 24\"\n",
              "       width=\"24px\">\n",
              "    <path d=\"M0 0h24v24H0V0z\" fill=\"none\"/>\n",
              "    <path d=\"M18.56 5.44l.94 2.06.94-2.06 2.06-.94-2.06-.94-.94-2.06-.94 2.06-2.06.94zm-11 1L8.5 8.5l.94-2.06 2.06-.94-2.06-.94L8.5 2.5l-.94 2.06-2.06.94zm10 10l.94 2.06.94-2.06 2.06-.94-2.06-.94-.94-2.06-.94 2.06-2.06.94z\"/><path d=\"M17.41 7.96l-1.37-1.37c-.4-.4-.92-.59-1.43-.59-.52 0-1.04.2-1.43.59L10.3 9.45l-7.72 7.72c-.78.78-.78 2.05 0 2.83L4 21.41c.39.39.9.59 1.41.59.51 0 1.02-.2 1.41-.59l7.78-7.78 2.81-2.81c.8-.78.8-2.07 0-2.86zM5.41 20L4 18.59l7.72-7.72 1.47 1.35L5.41 20z\"/>\n",
              "  </svg>\n",
              "      </button>\n",
              "      \n",
              "  <style>\n",
              "    .colab-df-container {\n",
              "      display:flex;\n",
              "      flex-wrap:wrap;\n",
              "      gap: 12px;\n",
              "    }\n",
              "\n",
              "    .colab-df-convert {\n",
              "      background-color: #E8F0FE;\n",
              "      border: none;\n",
              "      border-radius: 50%;\n",
              "      cursor: pointer;\n",
              "      display: none;\n",
              "      fill: #1967D2;\n",
              "      height: 32px;\n",
              "      padding: 0 0 0 0;\n",
              "      width: 32px;\n",
              "    }\n",
              "\n",
              "    .colab-df-convert:hover {\n",
              "      background-color: #E2EBFA;\n",
              "      box-shadow: 0px 1px 2px rgba(60, 64, 67, 0.3), 0px 1px 3px 1px rgba(60, 64, 67, 0.15);\n",
              "      fill: #174EA6;\n",
              "    }\n",
              "\n",
              "    [theme=dark] .colab-df-convert {\n",
              "      background-color: #3B4455;\n",
              "      fill: #D2E3FC;\n",
              "    }\n",
              "\n",
              "    [theme=dark] .colab-df-convert:hover {\n",
              "      background-color: #434B5C;\n",
              "      box-shadow: 0px 1px 3px 1px rgba(0, 0, 0, 0.15);\n",
              "      filter: drop-shadow(0px 1px 2px rgba(0, 0, 0, 0.3));\n",
              "      fill: #FFFFFF;\n",
              "    }\n",
              "  </style>\n",
              "\n",
              "      <script>\n",
              "        const buttonEl =\n",
              "          document.querySelector('#df-1a5b9d74-59d8-42b5-8c37-5f71b79e9f29 button.colab-df-convert');\n",
              "        buttonEl.style.display =\n",
              "          google.colab.kernel.accessAllowed ? 'block' : 'none';\n",
              "\n",
              "        async function convertToInteractive(key) {\n",
              "          const element = document.querySelector('#df-1a5b9d74-59d8-42b5-8c37-5f71b79e9f29');\n",
              "          const dataTable =\n",
              "            await google.colab.kernel.invokeFunction('convertToInteractive',\n",
              "                                                     [key], {});\n",
              "          if (!dataTable) return;\n",
              "\n",
              "          const docLinkHtml = 'Like what you see? Visit the ' +\n",
              "            '<a target=\"_blank\" href=https://colab.research.google.com/notebooks/data_table.ipynb>data table notebook</a>'\n",
              "            + ' to learn more about interactive tables.';\n",
              "          element.innerHTML = '';\n",
              "          dataTable['output_type'] = 'display_data';\n",
              "          await google.colab.output.renderOutput(dataTable, element);\n",
              "          const docLink = document.createElement('div');\n",
              "          docLink.innerHTML = docLinkHtml;\n",
              "          element.appendChild(docLink);\n",
              "        }\n",
              "      </script>\n",
              "    </div>\n",
              "  </div>\n",
              "  "
            ]
          },
          "metadata": {},
          "execution_count": 150
        }
      ]
    },
    {
      "cell_type": "markdown",
      "source": [
        "### Análise Exploratória"
      ],
      "metadata": {
        "id": "qAta99rgev9U"
      }
    },
    {
      "cell_type": "code",
      "source": [
        "# Verificando correlação entre as variáveis \n",
        "corr_matrix = df_alterado[vars_num].corr()\n",
        "plot_corr_matrix(corr_matrix)"
      ],
      "metadata": {
        "colab": {
          "base_uri": "https://localhost:8080/",
          "height": 777
        },
        "id": "CkyNFf2PZRYU",
        "outputId": "a720c06e-a35c-4b0e-b8eb-57caf6911d5f"
      },
      "execution_count": 151,
      "outputs": [
        {
          "output_type": "display_data",
          "data": {
            "text/plain": [
              "<Figure size 1400x1400 with 2 Axes>"
            ],
            "image/png": "[encoded data removed]"
          },
          "metadata": {}
        }
      ]
    },
    {
      "cell_type": "markdown",
      "source": [
        "- Por meio da matrix de correlação podemos perceber uma maior correlação positiva do andar (floor) tanto para aluguel (rent amount) como para o valor final da casa (total). \n",
        "- Podemos perceber também que a variável 'floor' tem uma grande correlação com boa parte das demais variáveis do dataset."
      ],
      "metadata": {
        "id": "hnFjoFLgb4BJ"
      }
    },
    {
      "cell_type": "code",
      "source": [
        "#Verificando a cardinalidade das variáveis categóricas\n",
        "print('Cardinalidade médias das categóricas:', np.mean(df_alterado[vars_cat].nunique()))\n",
        "df_alterado[vars_cat].nunique().sort_values(ascending=False)"
      ],
      "metadata": {
        "colab": {
          "base_uri": "https://localhost:8080/"
        },
        "id": "vuM9W3ZtjBxS",
        "outputId": "c4286c9b-4c48-44f5-9522-cfb2ef2acb9c"
      },
      "execution_count": 152,
      "outputs": [
        {
          "output_type": "stream",
          "name": "stdout",
          "text": [
            "Cardinalidade médias das categóricas: 3.0\n"
          ]
        },
        {
          "output_type": "execute_result",
          "data": {
            "text/plain": [
              "city         5\n",
              "animal       2\n",
              "furniture    2\n",
              "dtype: int64"
            ]
          },
          "metadata": {},
          "execution_count": 152
        }
      ]
    },
    {
      "cell_type": "markdown",
      "source": [
        "- Aqui podemos ver que estamos trabalhando com variáveis categóricas com pouca cardinalidade."
      ],
      "metadata": {
        "id": "HVoEzdA3BXnF"
      }
    },
    {
      "cell_type": "code",
      "source": [
        "# Verificando a quantidade de cidades \n",
        "df_alterado['city'].unique()"
      ],
      "metadata": {
        "colab": {
          "base_uri": "https://localhost:8080/"
        },
        "id": "QAeAE3COegpi",
        "outputId": "595d5c2f-126e-429a-9325-5a06b01dea6e"
      },
      "execution_count": 153,
      "outputs": [
        {
          "output_type": "execute_result",
          "data": {
            "text/plain": [
              "['São Paulo', 'Porto Alegre', 'Rio de Janeiro', 'Campinas', 'Belo Horizonte']\n",
              "Categories (5, object): ['Belo Horizonte', 'Campinas', 'Porto Alegre', 'Rio de Janeiro', 'São Paulo']"
            ]
          },
          "metadata": {},
          "execution_count": 153
        }
      ]
    },
    {
      "cell_type": "markdown",
      "source": [
        "- Temos 5 cidades brasileiras onde as casas estão localizadas."
      ],
      "metadata": {
        "id": "WWfFwimjBzlC"
      }
    },
    {
      "cell_type": "code",
      "source": [
        "# Distribuição do valor do aluguel das casas \n",
        "sns.distplot(df_alterado['rent amount (R$)'])"
      ],
      "metadata": {
        "colab": {
          "base_uri": "https://localhost:8080/",
          "height": 466
        },
        "id": "za3B6KwQe8wK",
        "outputId": "ee6655c0-ceb6-4d9b-aa27-7fbaa811e847"
      },
      "execution_count": 154,
      "outputs": [
        {
          "output_type": "execute_result",
          "data": {
            "text/plain": [
              "<Axes: xlabel='rent amount (R$)', ylabel='Density'>"
            ]
          },
          "metadata": {},
          "execution_count": 154
        },
        {
          "output_type": "display_data",
          "data": {
            "text/plain": [
              "<Figure size 640x480 with 1 Axes>"
            ],
            "image/png": "[encoded data removed]"
          },
          "metadata": {}
        }
      ]
    },
    {
      "cell_type": "markdown",
      "source": [
        "-  Os valores de aluguel variam até 15.000,00, com uma concentração maior em torno de 2.500,00"
      ],
      "metadata": {
        "id": "QseZcXvBCMLC"
      }
    },
    {
      "cell_type": "code",
      "source": [
        "# Quantidade de casas por cidade\n",
        "sns.countplot(data=df_alterado, x=\"city\")"
      ],
      "metadata": {
        "colab": {
          "base_uri": "https://localhost:8080/",
          "height": 466
        },
        "id": "5lqY-TS6k7W4",
        "outputId": "9deb1a15-c171-4e90-d17b-ce5d55bfeed6"
      },
      "execution_count": 155,
      "outputs": [
        {
          "output_type": "execute_result",
          "data": {
            "text/plain": [
              "<Axes: xlabel='city', ylabel='count'>"
            ]
          },
          "metadata": {},
          "execution_count": 155
        },
        {
          "output_type": "display_data",
          "data": {
            "text/plain": [
              "<Figure size 640x480 with 1 Axes>"
            ],
            "image/png": "[encoded data removed]"
          },
          "metadata": {}
        }
      ]
    },
    {
      "cell_type": "markdown",
      "source": [
        "-  A cidade de São Paulo é onde se concentram a maior quantidade de casas."
      ],
      "metadata": {
        "id": "Y99Gy5cTfld9"
      }
    },
    {
      "cell_type": "code",
      "source": [
        "# Quantidade de casas por andar\n",
        "sns.countplot(data=df_alterado, x=\"floors\")"
      ],
      "metadata": {
        "colab": {
          "base_uri": "https://localhost:8080/",
          "height": 466
        },
        "id": "-mECVeb0lJA6",
        "outputId": "d72b7138-22a2-4ce9-db44-fb3d4c51301c"
      },
      "execution_count": 156,
      "outputs": [
        {
          "output_type": "execute_result",
          "data": {
            "text/plain": [
              "<Axes: xlabel='floors', ylabel='count'>"
            ]
          },
          "metadata": {},
          "execution_count": 156
        },
        {
          "output_type": "display_data",
          "data": {
            "text/plain": [
              "<Figure size 640x480 with 1 Axes>"
            ],
            "image/png": "[encoded data removed]"
          },
          "metadata": {}
        }
      ]
    },
    {
      "cell_type": "markdown",
      "source": [
        "- A concentração maior está em casas sem andares (térreo), seguido de uma variação entre 1 a 12, diminuindo consideravelmente."
      ],
      "metadata": {
        "id": "F8wCcxE_f3fj"
      }
    },
    {
      "cell_type": "code",
      "source": [
        "# Quantidade de casas que acetam animal ou não\n",
        "sns.countplot(data=df_alterado, x=\"animal\")"
      ],
      "metadata": {
        "colab": {
          "base_uri": "https://localhost:8080/",
          "height": 466
        },
        "id": "VLOkIXn6lWyr",
        "outputId": "309b2be5-b906-455c-f188-d05d5c6d0daa"
      },
      "execution_count": 157,
      "outputs": [
        {
          "output_type": "execute_result",
          "data": {
            "text/plain": [
              "<Axes: xlabel='animal', ylabel='count'>"
            ]
          },
          "metadata": {},
          "execution_count": 157
        },
        {
          "output_type": "display_data",
          "data": {
            "text/plain": [
              "<Figure size 640x480 with 1 Axes>"
            ],
            "image/png": "[encoded data removed]"
          },
          "metadata": {}
        }
      ]
    },
    {
      "cell_type": "markdown",
      "source": [
        "- A maioria das casas aceitam animais"
      ],
      "metadata": {
        "id": "B7Gz5YxfgAzr"
      }
    },
    {
      "cell_type": "code",
      "source": [
        "# Comparação do valor do aluguel nas diferentes cidades levando em consideração aceitar ou não animais.\n",
        "plt.figure(figsize= (15,5))\n",
        "sns.barplot(x= df_houses['city'], y= df_houses['rent amount (R$)'],hue=df_houses['animal'],ci= False,estimator= np.median,order=[\"São Paulo\", 'Rio de Janeiro','Belo Horizonte','Campinas','Porto Alegre'])"
      ],
      "metadata": {
        "colab": {
          "base_uri": "https://localhost:8080/",
          "height": 343
        },
        "id": "L3PSesiJqy93",
        "outputId": "d32d72f9-3716-4cd0-e359-2c83eb8d7f66"
      },
      "execution_count": 158,
      "outputs": [
        {
          "output_type": "execute_result",
          "data": {
            "text/plain": [
              "<Axes: xlabel='city', ylabel='rent amount (R$)'>"
            ]
          },
          "metadata": {},
          "execution_count": 158
        },
        {
          "output_type": "display_data",
          "data": {
            "text/plain": [
              "<Figure size 1500x500 with 1 Axes>"
            ],
            "image/png": "[encoded data removed]"
          },
          "metadata": {}
        }
      ]
    },
    {
      "cell_type": "markdown",
      "source": [
        "- Aqui, podemos perceber que nem todas as cidades tem o preço mais elevado do aluguel por aceitar animais, como vemos na cidade do Rio de Janeiro e de Porto Alegre. "
      ],
      "metadata": {
        "id": "abx10FSCkcqM"
      }
    },
    {
      "cell_type": "code",
      "source": [
        "# Quantidade de casas com mobília ou não\n",
        "sns.countplot(data=df_alterado, x=\"furniture\")"
      ],
      "metadata": {
        "colab": {
          "base_uri": "https://localhost:8080/",
          "height": 466
        },
        "id": "QMjmrfEWlhVj",
        "outputId": "8f7285c6-c63f-450a-d4e5-4680f4a4b5e2"
      },
      "execution_count": 159,
      "outputs": [
        {
          "output_type": "execute_result",
          "data": {
            "text/plain": [
              "<Axes: xlabel='furniture', ylabel='count'>"
            ]
          },
          "metadata": {},
          "execution_count": 159
        },
        {
          "output_type": "display_data",
          "data": {
            "text/plain": [
              "<Figure size 640x480 with 1 Axes>"
            ],
            "image/png": "[encoded data removed]"
          },
          "metadata": {}
        }
      ]
    },
    {
      "cell_type": "markdown",
      "source": [
        "- A maioria das casas não tem mobília."
      ],
      "metadata": {
        "id": "DFDsdqNwgF7J"
      }
    },
    {
      "cell_type": "code",
      "source": [
        "# Média do aluguel das casas com e sem mobília\n",
        "df_alterado.groupby('furniture')['rent amount (R$)'].mean().sort_values(ascending = False).round(2)"
      ],
      "metadata": {
        "colab": {
          "base_uri": "https://localhost:8080/"
        },
        "id": "muMPdRfLmTUb",
        "outputId": "95269756-e570-4e4c-f5cd-6eb136a9583a"
      },
      "execution_count": 160,
      "outputs": [
        {
          "output_type": "execute_result",
          "data": {
            "text/plain": [
              "furniture\n",
              "furnished        4970.72\n",
              "not furnished    3634.36\n",
              "Name: rent amount (R$), dtype: float64"
            ]
          },
          "metadata": {},
          "execution_count": 160
        }
      ]
    },
    {
      "cell_type": "code",
      "source": [
        "\n",
        "plt.figure(figsize=(15,6))\n",
        "sns.catplot(x='city',y ='rent amount (R$)',col = 'furniture',kind= 'bar',ci= False,data= df_alterado)"
      ],
      "metadata": {
        "colab": {
          "base_uri": "https://localhost:8080/",
          "height": 477
        },
        "id": "ywhgYSr5lZNf",
        "outputId": "72f8eb1e-e45b-483d-a7d7-82ac72703f70"
      },
      "execution_count": 161,
      "outputs": [
        {
          "output_type": "execute_result",
          "data": {
            "text/plain": [
              "<seaborn.axisgrid.FacetGrid at 0x7fea56632470>"
            ]
          },
          "metadata": {},
          "execution_count": 161
        },
        {
          "output_type": "display_data",
          "data": {
            "text/plain": [
              "<Figure size 1500x600 with 0 Axes>"
            ]
          },
          "metadata": {}
        },
        {
          "output_type": "display_data",
          "data": {
            "text/plain": [
              "<Figure size 1000x500 with 2 Axes>"
            ],
            "image/png": "[encoded data removed]"
          },
          "metadata": {}
        }
      ]
    },
    {
      "cell_type": "markdown",
      "source": [
        "- As casas mobiliadas tem um valor de aluguel maior em média 1.336,00 reais mais caro."
      ],
      "metadata": {
        "id": "PwrFLZWYlwNb"
      }
    },
    {
      "cell_type": "code",
      "source": [
        "# Valores de alugueis das casas por cidade\n",
        "sns.barplot(data=df_alterado, x='city', y='rent amount (R$)')"
      ],
      "metadata": {
        "colab": {
          "base_uri": "https://localhost:8080/",
          "height": 469
        },
        "id": "OdbMI8D8hZh9",
        "outputId": "f0a2131a-1ead-40e2-8119-c95e0257c693"
      },
      "execution_count": 162,
      "outputs": [
        {
          "output_type": "execute_result",
          "data": {
            "text/plain": [
              "<Axes: xlabel='city', ylabel='rent amount (R$)'>"
            ]
          },
          "metadata": {},
          "execution_count": 162
        },
        {
          "output_type": "display_data",
          "data": {
            "text/plain": [
              "<Figure size 640x480 with 1 Axes>"
            ],
            "image/png": "[encoded data removed]"
          },
          "metadata": {}
        }
      ]
    },
    {
      "cell_type": "code",
      "source": [
        "# Média do valor total por cidade\n",
        "df_alterado.groupby('city')['total (R$)'].median().sort_values(ascending=False)"
      ],
      "metadata": {
        "colab": {
          "base_uri": "https://localhost:8080/"
        },
        "id": "j6lY9xFOg4ZG",
        "outputId": "62468b85-4232-468c-fba3-582d3f594c3c"
      },
      "execution_count": 163,
      "outputs": [
        {
          "output_type": "execute_result",
          "data": {
            "text/plain": [
              "city\n",
              "São Paulo         4695.5\n",
              "Rio de Janeiro    3417.0\n",
              "Belo Horizonte    3127.5\n",
              "Porto Alegre      2183.0\n",
              "Campinas          2147.0\n",
              "Name: total (R$), dtype: float64"
            ]
          },
          "metadata": {},
          "execution_count": 163
        }
      ]
    },
    {
      "cell_type": "code",
      "source": [
        "# Média do valor total por cidade\n",
        "plt.figure(figsize=(10,4))\n",
        "sns.barplot(x=df_alterado['city'], y=df_alterado['total (R$)'], ci=False, estimator=np.median, order= ('São Paulo','Rio de Janeiro','Belo Horizonte','Porto Alegre', 'Campinas'))"
      ],
      "metadata": {
        "colab": {
          "base_uri": "https://localhost:8080/",
          "height": 405
        },
        "id": "7bw-UmRVplPR",
        "outputId": "f009d221-d845-4b16-9e39-6f3e946397ec"
      },
      "execution_count": 164,
      "outputs": [
        {
          "output_type": "execute_result",
          "data": {
            "text/plain": [
              "<Axes: xlabel='city', ylabel='total (R$)'>"
            ]
          },
          "metadata": {},
          "execution_count": 164
        },
        {
          "output_type": "display_data",
          "data": {
            "text/plain": [
              "<Figure size 1000x400 with 1 Axes>"
            ],
            "image/png": "[encoded data removed]"
          },
          "metadata": {}
        }
      ]
    },
    {
      "cell_type": "markdown",
      "source": [
        "-  Algumas cidades têm preços mais altos, como podemos observar em São Paulo, Rio de Janeiro e Belo Horizonte"
      ],
      "metadata": {
        "id": "a_pMKxBzhjOA"
      }
    },
    {
      "cell_type": "code",
      "source": [
        "# Valor médio do aluguel em relação a quantidade de vagas de estacionamento\n",
        "df_alterado.groupby('parking spaces')['rent amount (R$)'].mean().sort_values(ascending = False)"
      ],
      "metadata": {
        "colab": {
          "base_uri": "https://localhost:8080/"
        },
        "id": "roXPHRRtp093",
        "outputId": "401f354f-5987-443e-b57f-739f71680d8a"
      },
      "execution_count": 165,
      "outputs": [
        {
          "output_type": "execute_result",
          "data": {
            "text/plain": [
              "parking spaces\n",
              "7     9486.363636\n",
              "10    8950.000000\n",
              "6     8867.846626\n",
              "8     8406.819672\n",
              "5     8324.480176\n",
              "4     7738.373248\n",
              "12    6900.000000\n",
              "3     6437.618257\n",
              "2     4540.290607\n",
              "1     2625.650172\n",
              "0     2187.701367\n",
              "Name: rent amount (R$), dtype: float64"
            ]
          },
          "metadata": {},
          "execution_count": 165
        }
      ]
    },
    {
      "cell_type": "code",
      "source": [
        "# Valor médio do aluguel em relação a quantidade de vagas de estacionamento\n",
        "plt.figure(figsize=(10,4))\n",
        "sns.barplot(x= 'parking spaces', y= 'rent amount (R$)', data= df_alterado, ci= False)"
      ],
      "metadata": {
        "colab": {
          "base_uri": "https://localhost:8080/",
          "height": 405
        },
        "id": "Dp8owPs8p116",
        "outputId": "41038b1c-e85b-4011-b396-777a7abb286a"
      },
      "execution_count": 166,
      "outputs": [
        {
          "output_type": "execute_result",
          "data": {
            "text/plain": [
              "<Axes: xlabel='parking spaces', ylabel='rent amount (R$)'>"
            ]
          },
          "metadata": {},
          "execution_count": 166
        },
        {
          "output_type": "display_data",
          "data": {
            "text/plain": [
              "<Figure size 1000x400 with 1 Axes>"
            ],
            "image/png": "[encoded data removed]"
          },
          "metadata": {}
        }
      ]
    },
    {
      "cell_type": "markdown",
      "source": [
        "- Podemos notar que de 0 a 7 a quantidade de vagas impacta nos preços, quanto mais vagas, mais caros são os imóveis, a partir de 8 vagas não temos esse padrão."
      ],
      "metadata": {
        "id": "_x_KYx9PqIDM"
      }
    },
    {
      "cell_type": "code",
      "source": [
        "# Valor médio do aluguel em relação a quantidade de quartos \n",
        "df_alterado.groupby('rooms')['rent amount (R$)'].mean().sort_values(ascending = False)"
      ],
      "metadata": {
        "colab": {
          "base_uri": "https://localhost:8080/"
        },
        "id": "VV1sJOqkqOqU",
        "outputId": "3b02292f-fd3b-4f7d-ff78-09c4b81e23ca"
      },
      "execution_count": 167,
      "outputs": [
        {
          "output_type": "execute_result",
          "data": {
            "text/plain": [
              "rooms\n",
              "13    15000.000000\n",
              "9     12000.000000\n",
              "8      9872.727273\n",
              "7      8865.277778\n",
              "10     8243.333333\n",
              "5      8215.245614\n",
              "6      7466.397059\n",
              "4      7130.031706\n",
              "3      4500.641907\n",
              "2      2490.937196\n",
              "1      2057.694170\n",
              "Name: rent amount (R$), dtype: float64"
            ]
          },
          "metadata": {},
          "execution_count": 167
        }
      ]
    },
    {
      "cell_type": "code",
      "source": [
        "# Valor médio do aluguel em relação a quantidade de quartos\n",
        "plt.figure(figsize=(10,4))\n",
        "sns.barplot(x= 'rooms', y= 'rent amount (R$)', data= df_alterado, ci= False)"
      ],
      "metadata": {
        "colab": {
          "base_uri": "https://localhost:8080/",
          "height": 401
        },
        "id": "fpBWYUboqWhx",
        "outputId": "518eab4b-fa4e-40e4-b149-a4d5e93b9c30"
      },
      "execution_count": 168,
      "outputs": [
        {
          "output_type": "execute_result",
          "data": {
            "text/plain": [
              "<Axes: xlabel='rooms', ylabel='rent amount (R$)'>"
            ]
          },
          "metadata": {},
          "execution_count": 168
        },
        {
          "output_type": "display_data",
          "data": {
            "text/plain": [
              "<Figure size 1000x400 with 1 Axes>"
            ],
            "image/png": "[encoded data removed]"
          },
          "metadata": {}
        }
      ]
    },
    {
      "cell_type": "markdown",
      "source": [
        "- Podemos notar que a quantidade de quartos impacta nos preços, quanto mais quartos, mais caros são os imóveis, somente quando temos 10 quartos não temos esse padrão."
      ],
      "metadata": {
        "id": "WROzAgL2kcbu"
      }
    },
    {
      "cell_type": "code",
      "source": [
        "# Valor médio do aluguel em relação a quantidade de banheiros\n",
        "df_alterado.groupby('bathroom')['rent amount (R$)'].mean().sort_values(ascending = False)"
      ],
      "metadata": {
        "colab": {
          "base_uri": "https://localhost:8080/"
        },
        "id": "JxriqMXEq59M",
        "outputId": "c53a646c-ab5f-4f49-e8b0-9e56b83461cb"
      },
      "execution_count": 169,
      "outputs": [
        {
          "output_type": "execute_result",
          "data": {
            "text/plain": [
              "bathroom\n",
              "8     12842.000000\n",
              "10    12333.333333\n",
              "9     10092.250000\n",
              "7      9957.785714\n",
              "6      9156.613953\n",
              "5      8367.635253\n",
              "4      7186.007233\n",
              "3      5442.573590\n",
              "2      3390.470424\n",
              "1      1873.188106\n",
              "Name: rent amount (R$), dtype: float64"
            ]
          },
          "metadata": {},
          "execution_count": 169
        }
      ]
    },
    {
      "cell_type": "code",
      "source": [
        "# Valor médio do aluguel em relação a quantidade de banheiros\n",
        "plt.figure(figsize=(10,4))\n",
        "sns.barplot(x= 'bathroom', y= 'rent amount (R$)', data= df_alterado, ci= False)"
      ],
      "metadata": {
        "colab": {
          "base_uri": "https://localhost:8080/",
          "height": 401
        },
        "id": "z9yRyoEfq8PR",
        "outputId": "b166a731-22df-45c4-c780-1b16c19878cd"
      },
      "execution_count": 170,
      "outputs": [
        {
          "output_type": "execute_result",
          "data": {
            "text/plain": [
              "<Axes: xlabel='bathroom', ylabel='rent amount (R$)'>"
            ]
          },
          "metadata": {},
          "execution_count": 170
        },
        {
          "output_type": "display_data",
          "data": {
            "text/plain": [
              "<Figure size 1000x400 with 1 Axes>"
            ],
            "image/png": "[encoded data removed]"
          },
          "metadata": {}
        }
      ]
    },
    {
      "cell_type": "markdown",
      "source": [
        "- Podemos notar que de 0 a 8 banheiros a quantidade de impacta nos preços, quanto mais banheiros, mais caros são os imóveis, após isso não temos esse padrão."
      ],
      "metadata": {
        "id": "CapEKo2_rEfL"
      }
    },
    {
      "cell_type": "code",
      "source": [
        "#Area vs Aluguel\n",
        "sns.relplot(x = 'area',y='rent amount (R$)',data=df_alterado,kind='scatter',size='rent amount (R$)')"
      ],
      "metadata": {
        "id": "xEnx3YVQPqPg",
        "colab": {
          "base_uri": "https://localhost:8080/",
          "height": 523
        },
        "outputId": "06fce8ed-b136-406c-850c-c950eb01d85a"
      },
      "execution_count": 171,
      "outputs": [
        {
          "output_type": "execute_result",
          "data": {
            "text/plain": [
              "<seaborn.axisgrid.FacetGrid at 0x7fea55bdb610>"
            ]
          },
          "metadata": {},
          "execution_count": 171
        },
        {
          "output_type": "display_data",
          "data": {
            "text/plain": [
              "<Figure size 631.111x500 with 1 Axes>"
            ],
            "image/png": "[encoded data removed]"
          },
          "metadata": {}
        }
      ]
    },
    {
      "cell_type": "markdown",
      "source": [
        "- Analisando a área em relação ao valor do aluguel, percebemos uma concentração de valores até 15.000 reias com área até 2.000 m2.\n",
        "- Percebemos também um ponto fora da curva, que pode representar um outlier ou mesmo uma casa fora dos padrões tradicionais encontrados no dataset."
      ],
      "metadata": {
        "id": "dZvgrZgbmFuC"
      }
    },
    {
      "cell_type": "code",
      "source": [
        "#Valor do condomínio vs valor do aluguel\n",
        "sns.relplot(x = 'hoa (R$)',y='rent amount (R$)',data=df_alterado,kind='scatter',size='rent amount (R$)')"
      ],
      "metadata": {
        "colab": {
          "base_uri": "https://localhost:8080/",
          "height": 523
        },
        "id": "jzzHWVRIph7e",
        "outputId": "ac552589-fb31-40ab-9bf8-2ff699f08eab"
      },
      "execution_count": 172,
      "outputs": [
        {
          "output_type": "execute_result",
          "data": {
            "text/plain": [
              "<seaborn.axisgrid.FacetGrid at 0x7fea55a7a830>"
            ]
          },
          "metadata": {},
          "execution_count": 172
        },
        {
          "output_type": "display_data",
          "data": {
            "text/plain": [
              "<Figure size 631.111x500 with 1 Axes>"
            ],
            "image/png": "[encoded data removed]"
          },
          "metadata": {}
        }
      ]
    },
    {
      "cell_type": "markdown",
      "source": [
        "- O valor do condomínio tem um variação de até 5.000 para alugueis de até 15.000 reias.\n",
        "- Observamos também valores fora desse padrão."
      ],
      "metadata": {
        "id": "jz8N9JzXp6k3"
      }
    },
    {
      "cell_type": "code",
      "source": [
        "#Valor do IPTU vs valor do aluguel\n",
        "sns.relplot(x = 'property tax (R$)',y='rent amount (R$)',data=df_alterado,kind='scatter',size='rent amount (R$)')"
      ],
      "metadata": {
        "colab": {
          "base_uri": "https://localhost:8080/",
          "height": 523
        },
        "id": "PgEEjFHTqE5f",
        "outputId": "7d427ee4-4d8b-4069-a209-4b55aa8e4d8d"
      },
      "execution_count": 173,
      "outputs": [
        {
          "output_type": "execute_result",
          "data": {
            "text/plain": [
              "<seaborn.axisgrid.FacetGrid at 0x7fea60a67610>"
            ]
          },
          "metadata": {},
          "execution_count": 173
        },
        {
          "output_type": "display_data",
          "data": {
            "text/plain": [
              "<Figure size 631.111x500 with 1 Axes>"
            ],
            "image/png": "[encoded data removed]"
          },
          "metadata": {}
        }
      ]
    },
    {
      "cell_type": "markdown",
      "source": [
        "- Os valores do IPTU ficam abaixo de 5.000 reias."
      ],
      "metadata": {
        "id": "iQHr-0lDqShu"
      }
    },
    {
      "cell_type": "code",
      "source": [
        "#Valor do seguro incêndio vs valor do aluguel\n",
        "sns.relplot(x = 'fire insurance (R$)',y='rent amount (R$)',data=df_alterado,kind='scatter',size='rent amount (R$)')"
      ],
      "metadata": {
        "colab": {
          "base_uri": "https://localhost:8080/",
          "height": 523
        },
        "id": "9I8-RKvAqkSl",
        "outputId": "58faf95d-9531-417b-ca49-b1c8b053531a"
      },
      "execution_count": 174,
      "outputs": [
        {
          "output_type": "execute_result",
          "data": {
            "text/plain": [
              "<seaborn.axisgrid.FacetGrid at 0x7fea55c4b790>"
            ]
          },
          "metadata": {},
          "execution_count": 174
        },
        {
          "output_type": "display_data",
          "data": {
            "text/plain": [
              "<Figure size 631.111x500 with 1 Axes>"
            ],
            "image/png": "[encoded data removed]"
          },
          "metadata": {}
        }
      ]
    },
    {
      "cell_type": "markdown",
      "source": [
        "- Já em relação ao seguro incêndio, segue a regra, quanto maior o valor do aluguel da casa, maior o valor do seguro incêndio."
      ],
      "metadata": {
        "id": "Grpnn_TNqtkB"
      }
    },
    {
      "cell_type": "markdown",
      "source": [
        "### Comparando casas com mesmo padrão, na cidade mais cara e mais barata"
      ],
      "metadata": {
        "id": "lxx9P160O0qB"
      }
    },
    {
      "cell_type": "code",
      "source": [
        "# Verificando a média de banheiros\n",
        "media_banheiros = df_alterado['bathroom'].mean()\n",
        "media_banheiros"
      ],
      "metadata": {
        "colab": {
          "base_uri": "https://localhost:8080/"
        },
        "id": "Mx_H4Yqcv5b8",
        "outputId": "3a852371-58e6-41da-a408-aea186284720"
      },
      "execution_count": 175,
      "outputs": [
        {
          "output_type": "execute_result",
          "data": {
            "text/plain": [
              "2.2671186440677964"
            ]
          },
          "metadata": {},
          "execution_count": 175
        }
      ]
    },
    {
      "cell_type": "code",
      "source": [
        "# Verificando a média de quartos\n",
        "media_quartos = df_alterado['rooms'].mean()\n",
        "media_quartos"
      ],
      "metadata": {
        "colab": {
          "base_uri": "https://localhost:8080/"
        },
        "id": "3q_JpeuXwCOr",
        "outputId": "dec8697b-1828-4210-d1fb-5439348dcd43"
      },
      "execution_count": 176,
      "outputs": [
        {
          "output_type": "execute_result",
          "data": {
            "text/plain": [
              "2.5394673123486684"
            ]
          },
          "metadata": {},
          "execution_count": 176
        }
      ]
    },
    {
      "cell_type": "code",
      "source": [
        "# Filtro de casas com 3 quartos e 2 banheiros\n",
        "filtro_padrao = df_alterado.query('rooms==3 & bathroom==2')\n",
        "\n",
        "filtro_padrao"
      ],
      "metadata": {
        "colab": {
          "base_uri": "https://localhost:8080/",
          "height": 696
        },
        "id": "dMYFo6v-wZxh",
        "outputId": "451713ea-d9f5-431f-8b73-f9f05eabc068"
      },
      "execution_count": 177,
      "outputs": [
        {
          "output_type": "execute_result",
          "data": {
            "text/plain": [
              "                 city  area  rooms  bathroom  parking spaces  floors  \\\n",
              "22          São Paulo   160      3         2               2      18   \n",
              "24     Rio de Janeiro    90      3         2               1       7   \n",
              "28           Campinas   208      3         2               4       0   \n",
              "37     Belo Horizonte    80      3         2               1       0   \n",
              "41          São Paulo   240      3         2               3       0   \n",
              "...               ...   ...    ...       ...             ...     ...   \n",
              "10664  Rio de Janeiro   310      3         2               0       5   \n",
              "10673    Porto Alegre   220      3         2               2      15   \n",
              "10675  Rio de Janeiro   250      3         2               1      11   \n",
              "10682    Porto Alegre   160      3         2               3       4   \n",
              "10685       São Paulo    83      3         2               2      11   \n",
              "\n",
              "          animal      furniture  hoa (R$)  rent amount (R$)  \\\n",
              "22         acept      furnished      1530              1900   \n",
              "24         acept  not furnished       800              1800   \n",
              "28         acept  not furnished         0              3180   \n",
              "37         acept  not furnished         0             11000   \n",
              "41         acept  not furnished         0              3500   \n",
              "...          ...            ...       ...               ...   \n",
              "10664  not acept  not furnished      2500              6000   \n",
              "10673      acept  not furnished       842              2400   \n",
              "10675      acept  not furnished      2000              2700   \n",
              "10682      acept      furnished       850              3300   \n",
              "10685      acept  not furnished       888              7521   \n",
              "\n",
              "       property tax (R$)  fire insurance (R$)  total (R$)  \n",
              "22                   167                   25        3622  \n",
              "24                   118                   24        2742  \n",
              "28                   100                   48        3328  \n",
              "37                   425                  181       11610  \n",
              "41                   292                   53        3845  \n",
              "...                  ...                  ...         ...  \n",
              "10664                595                   78        9173  \n",
              "10673                117                   36        3395  \n",
              "10675                500                   35        5235  \n",
              "10682                220                   49        4419  \n",
              "10685                221                   96        8726  \n",
              "\n",
              "[1373 rows x 13 columns]"
            ],
            "text/html": [
              "\n",
              "  <div id=\"df-ca58e134-db4e-4e76-a268-3d50f2ae3780\">\n",
              "    <div class=\"colab-df-container\">\n",
              "      <div>\n",
              "<style scoped>\n",
              "    .dataframe tbody tr th:only-of-type {\n",
              "        vertical-align: middle;\n",
              "    }\n",
              "\n",
              "    .dataframe tbody tr th {\n",
              "        vertical-align: top;\n",
              "    }\n",
              "\n",
              "    .dataframe thead th {\n",
              "        text-align: right;\n",
              "    }\n",
              "</style>\n",
              "<table border=\"1\" class=\"dataframe\">\n",
              "  <thead>\n",
              "    <tr style=\"text-align: right;\">\n",
              "      <th></th>\n",
              "      <th>city</th>\n",
              "      <th>area</th>\n",
              "      <th>rooms</th>\n",
              "      <th>bathroom</th>\n",
              "      <th>parking spaces</th>\n",
              "      <th>floors</th>\n",
              "      <th>animal</th>\n",
              "      <th>furniture</th>\n",
              "      <th>hoa (R$)</th>\n",
              "      <th>rent amount (R$)</th>\n",
              "      <th>property tax (R$)</th>\n",
              "      <th>fire insurance (R$)</th>\n",
              "      <th>total (R$)</th>\n",
              "    </tr>\n",
              "  </thead>\n",
              "  <tbody>\n",
              "    <tr>\n",
              "      <th>22</th>\n",
              "      <td>São Paulo</td>\n",
              "      <td>160</td>\n",
              "      <td>3</td>\n",
              "      <td>2</td>\n",
              "      <td>2</td>\n",
              "      <td>18</td>\n",
              "      <td>acept</td>\n",
              "      <td>furnished</td>\n",
              "      <td>1530</td>\n",
              "      <td>1900</td>\n",
              "      <td>167</td>\n",
              "      <td>25</td>\n",
              "      <td>3622</td>\n",
              "    </tr>\n",
              "    <tr>\n",
              "      <th>24</th>\n",
              "      <td>Rio de Janeiro</td>\n",
              "      <td>90</td>\n",
              "      <td>3</td>\n",
              "      <td>2</td>\n",
              "      <td>1</td>\n",
              "      <td>7</td>\n",
              "      <td>acept</td>\n",
              "      <td>not furnished</td>\n",
              "      <td>800</td>\n",
              "      <td>1800</td>\n",
              "      <td>118</td>\n",
              "      <td>24</td>\n",
              "      <td>2742</td>\n",
              "    </tr>\n",
              "    <tr>\n",
              "      <th>28</th>\n",
              "      <td>Campinas</td>\n",
              "      <td>208</td>\n",
              "      <td>3</td>\n",
              "      <td>2</td>\n",
              "      <td>4</td>\n",
              "      <td>0</td>\n",
              "      <td>acept</td>\n",
              "      <td>not furnished</td>\n",
              "      <td>0</td>\n",
              "      <td>3180</td>\n",
              "      <td>100</td>\n",
              "      <td>48</td>\n",
              "      <td>3328</td>\n",
              "    </tr>\n",
              "    <tr>\n",
              "      <th>37</th>\n",
              "      <td>Belo Horizonte</td>\n",
              "      <td>80</td>\n",
              "      <td>3</td>\n",
              "      <td>2</td>\n",
              "      <td>1</td>\n",
              "      <td>0</td>\n",
              "      <td>acept</td>\n",
              "      <td>not furnished</td>\n",
              "      <td>0</td>\n",
              "      <td>11000</td>\n",
              "      <td>425</td>\n",
              "      <td>181</td>\n",
              "      <td>11610</td>\n",
              "    </tr>\n",
              "    <tr>\n",
              "      <th>41</th>\n",
              "      <td>São Paulo</td>\n",
              "      <td>240</td>\n",
              "      <td>3</td>\n",
              "      <td>2</td>\n",
              "      <td>3</td>\n",
              "      <td>0</td>\n",
              "      <td>acept</td>\n",
              "      <td>not furnished</td>\n",
              "      <td>0</td>\n",
              "      <td>3500</td>\n",
              "      <td>292</td>\n",
              "      <td>53</td>\n",
              "      <td>3845</td>\n",
              "    </tr>\n",
              "    <tr>\n",
              "      <th>...</th>\n",
              "      <td>...</td>\n",
              "      <td>...</td>\n",
              "      <td>...</td>\n",
              "      <td>...</td>\n",
              "      <td>...</td>\n",
              "      <td>...</td>\n",
              "      <td>...</td>\n",
              "      <td>...</td>\n",
              "      <td>...</td>\n",
              "      <td>...</td>\n",
              "      <td>...</td>\n",
              "      <td>...</td>\n",
              "      <td>...</td>\n",
              "    </tr>\n",
              "    <tr>\n",
              "      <th>10664</th>\n",
              "      <td>Rio de Janeiro</td>\n",
              "      <td>310</td>\n",
              "      <td>3</td>\n",
              "      <td>2</td>\n",
              "      <td>0</td>\n",
              "      <td>5</td>\n",
              "      <td>not acept</td>\n",
              "      <td>not furnished</td>\n",
              "      <td>2500</td>\n",
              "      <td>6000</td>\n",
              "      <td>595</td>\n",
              "      <td>78</td>\n",
              "      <td>9173</td>\n",
              "    </tr>\n",
              "    <tr>\n",
              "      <th>10673</th>\n",
              "      <td>Porto Alegre</td>\n",
              "      <td>220</td>\n",
              "      <td>3</td>\n",
              "      <td>2</td>\n",
              "      <td>2</td>\n",
              "      <td>15</td>\n",
              "      <td>acept</td>\n",
              "      <td>not furnished</td>\n",
              "      <td>842</td>\n",
              "      <td>2400</td>\n",
              "      <td>117</td>\n",
              "      <td>36</td>\n",
              "      <td>3395</td>\n",
              "    </tr>\n",
              "    <tr>\n",
              "      <th>10675</th>\n",
              "      <td>Rio de Janeiro</td>\n",
              "      <td>250</td>\n",
              "      <td>3</td>\n",
              "      <td>2</td>\n",
              "      <td>1</td>\n",
              "      <td>11</td>\n",
              "      <td>acept</td>\n",
              "      <td>not furnished</td>\n",
              "      <td>2000</td>\n",
              "      <td>2700</td>\n",
              "      <td>500</td>\n",
              "      <td>35</td>\n",
              "      <td>5235</td>\n",
              "    </tr>\n",
              "    <tr>\n",
              "      <th>10682</th>\n",
              "      <td>Porto Alegre</td>\n",
              "      <td>160</td>\n",
              "      <td>3</td>\n",
              "      <td>2</td>\n",
              "      <td>3</td>\n",
              "      <td>4</td>\n",
              "      <td>acept</td>\n",
              "      <td>furnished</td>\n",
              "      <td>850</td>\n",
              "      <td>3300</td>\n",
              "      <td>220</td>\n",
              "      <td>49</td>\n",
              "      <td>4419</td>\n",
              "    </tr>\n",
              "    <tr>\n",
              "      <th>10685</th>\n",
              "      <td>São Paulo</td>\n",
              "      <td>83</td>\n",
              "      <td>3</td>\n",
              "      <td>2</td>\n",
              "      <td>2</td>\n",
              "      <td>11</td>\n",
              "      <td>acept</td>\n",
              "      <td>not furnished</td>\n",
              "      <td>888</td>\n",
              "      <td>7521</td>\n",
              "      <td>221</td>\n",
              "      <td>96</td>\n",
              "      <td>8726</td>\n",
              "    </tr>\n",
              "  </tbody>\n",
              "</table>\n",
              "<p>1373 rows × 13 columns</p>\n",
              "</div>\n",
              "      <button class=\"colab-df-convert\" onclick=\"convertToInteractive('df-ca58e134-db4e-4e76-a268-3d50f2ae3780')\"\n",
              "              title=\"Convert this dataframe to an interactive table.\"\n",
              "              style=\"display:none;\">\n",
              "        \n",
              "  <svg xmlns=\"http://www.w3.org/2000/svg\" height=\"24px\"viewBox=\"0 0 24 24\"\n",
              "       width=\"24px\">\n",
              "    <path d=\"M0 0h24v24H0V0z\" fill=\"none\"/>\n",
              "    <path d=\"M18.56 5.44l.94 2.06.94-2.06 2.06-.94-2.06-.94-.94-2.06-.94 2.06-2.06.94zm-11 1L8.5 8.5l.94-2.06 2.06-.94-2.06-.94L8.5 2.5l-.94 2.06-2.06.94zm10 10l.94 2.06.94-2.06 2.06-.94-2.06-.94-.94-2.06-.94 2.06-2.06.94z\"/><path d=\"M17.41 7.96l-1.37-1.37c-.4-.4-.92-.59-1.43-.59-.52 0-1.04.2-1.43.59L10.3 9.45l-7.72 7.72c-.78.78-.78 2.05 0 2.83L4 21.41c.39.39.9.59 1.41.59.51 0 1.02-.2 1.41-.59l7.78-7.78 2.81-2.81c.8-.78.8-2.07 0-2.86zM5.41 20L4 18.59l7.72-7.72 1.47 1.35L5.41 20z\"/>\n",
              "  </svg>\n",
              "      </button>\n",
              "      \n",
              "  <style>\n",
              "    .colab-df-container {\n",
              "      display:flex;\n",
              "      flex-wrap:wrap;\n",
              "      gap: 12px;\n",
              "    }\n",
              "\n",
              "    .colab-df-convert {\n",
              "      background-color: #E8F0FE;\n",
              "      border: none;\n",
              "      border-radius: 50%;\n",
              "      cursor: pointer;\n",
              "      display: none;\n",
              "      fill: #1967D2;\n",
              "      height: 32px;\n",
              "      padding: 0 0 0 0;\n",
              "      width: 32px;\n",
              "    }\n",
              "\n",
              "    .colab-df-convert:hover {\n",
              "      background-color: #E2EBFA;\n",
              "      box-shadow: 0px 1px 2px rgba(60, 64, 67, 0.3), 0px 1px 3px 1px rgba(60, 64, 67, 0.15);\n",
              "      fill: #174EA6;\n",
              "    }\n",
              "\n",
              "    [theme=dark] .colab-df-convert {\n",
              "      background-color: #3B4455;\n",
              "      fill: #D2E3FC;\n",
              "    }\n",
              "\n",
              "    [theme=dark] .colab-df-convert:hover {\n",
              "      background-color: #434B5C;\n",
              "      box-shadow: 0px 1px 3px 1px rgba(0, 0, 0, 0.15);\n",
              "      filter: drop-shadow(0px 1px 2px rgba(0, 0, 0, 0.3));\n",
              "      fill: #FFFFFF;\n",
              "    }\n",
              "  </style>\n",
              "\n",
              "      <script>\n",
              "        const buttonEl =\n",
              "          document.querySelector('#df-ca58e134-db4e-4e76-a268-3d50f2ae3780 button.colab-df-convert');\n",
              "        buttonEl.style.display =\n",
              "          google.colab.kernel.accessAllowed ? 'block' : 'none';\n",
              "\n",
              "        async function convertToInteractive(key) {\n",
              "          const element = document.querySelector('#df-ca58e134-db4e-4e76-a268-3d50f2ae3780');\n",
              "          const dataTable =\n",
              "            await google.colab.kernel.invokeFunction('convertToInteractive',\n",
              "                                                     [key], {});\n",
              "          if (!dataTable) return;\n",
              "\n",
              "          const docLinkHtml = 'Like what you see? Visit the ' +\n",
              "            '<a target=\"_blank\" href=https://colab.research.google.com/notebooks/data_table.ipynb>data table notebook</a>'\n",
              "            + ' to learn more about interactive tables.';\n",
              "          element.innerHTML = '';\n",
              "          dataTable['output_type'] = 'display_data';\n",
              "          await google.colab.output.renderOutput(dataTable, element);\n",
              "          const docLink = document.createElement('div');\n",
              "          docLink.innerHTML = docLinkHtml;\n",
              "          element.appendChild(docLink);\n",
              "        }\n",
              "      </script>\n",
              "    </div>\n",
              "  </div>\n",
              "  "
            ]
          },
          "metadata": {},
          "execution_count": 177
        }
      ]
    },
    {
      "cell_type": "code",
      "source": [
        "# Filtro de casas com 3 quartos e 2 banheiros em São Paulo (cidade mais cara)\n",
        "filtro1 = df_alterado.loc[((df_alterado.rooms==3) & (df_alterado.bathroom==2) & (df_alterado.city=='São Paulo'))].mean().round(2)\n",
        "filtro1"
      ],
      "metadata": {
        "colab": {
          "base_uri": "https://localhost:8080/"
        },
        "id": "ROiKAxHk3ZDG",
        "outputId": "c8daabaf-f428-4701-fd7f-4170924e443a"
      },
      "execution_count": 178,
      "outputs": [
        {
          "output_type": "execute_result",
          "data": {
            "text/plain": [
              "area                    134.95\n",
              "rooms                     3.00\n",
              "bathroom                  2.00\n",
              "parking spaces            1.73\n",
              "floors                    5.73\n",
              "hoa (R$)                965.64\n",
              "rent amount (R$)       4039.17\n",
              "property tax (R$)       285.20\n",
              "fire insurance (R$)      54.07\n",
              "total (R$)             5344.14\n",
              "dtype: float64"
            ]
          },
          "metadata": {},
          "execution_count": 178
        }
      ]
    },
    {
      "cell_type": "code",
      "source": [
        "# Filtro de casas com 3 quartos e 2 banheiros em Camppinas (cidade mais barata)\n",
        "filtro2 = df_alterado.loc[((df_alterado.rooms==3) & (df_alterado.bathroom==2) & (df_alterado.city=='Campinas'))].mean().round(2)\n",
        "filtro2"
      ],
      "metadata": {
        "colab": {
          "base_uri": "https://localhost:8080/"
        },
        "id": "0RIbVTmw4zp3",
        "outputId": "e842e870-4eaa-4197-d736-8aa30b911dbc"
      },
      "execution_count": 179,
      "outputs": [
        {
          "output_type": "execute_result",
          "data": {
            "text/plain": [
              "area                    208.19\n",
              "rooms                     3.00\n",
              "bathroom                  2.00\n",
              "parking spaces            1.74\n",
              "floors                    5.24\n",
              "hoa (R$)                615.15\n",
              "rent amount (R$)       1993.88\n",
              "property tax (R$)       135.60\n",
              "fire insurance (R$)      26.75\n",
              "total (R$)             2771.37\n",
              "dtype: float64"
            ]
          },
          "metadata": {},
          "execution_count": 179
        }
      ]
    },
    {
      "cell_type": "markdown",
      "source": [
        "- Aqui, observamos que a diferença de valor de aluguel de uma casa com a mesma quantidade de quartos e banheiros aumenta em média 2.045,00,considerando a cidade mais cara e mais barata.  Um valor bastante espressivo."
      ],
      "metadata": {
        "id": "v-KZOyby57wd"
      }
    },
    {
      "cell_type": "code",
      "source": [
        "# Aumentando 1 quarto na cidade mais cara (São paulo)\n",
        "filtro3 = df_alterado.loc[((df_alterado.rooms==4) & (df_alterado.bathroom==2) & (df_alterado.city=='São Paulo'))].mean().round(2)\n",
        "filtro3"
      ],
      "metadata": {
        "colab": {
          "base_uri": "https://localhost:8080/"
        },
        "id": "eCOUFBNg6JZ5",
        "outputId": "195be33a-66cd-4b22-9a78-4dd803aab5c3"
      },
      "execution_count": 180,
      "outputs": [
        {
          "output_type": "execute_result",
          "data": {
            "text/plain": [
              "area                    229.36\n",
              "rooms                     4.00\n",
              "bathroom                  2.00\n",
              "parking spaces            2.79\n",
              "floors                    2.79\n",
              "hoa (R$)                871.66\n",
              "rent amount (R$)       5647.36\n",
              "property tax (R$)       433.84\n",
              "fire insurance (R$)      79.75\n",
              "total (R$)             7032.59\n",
              "dtype: float64"
            ]
          },
          "metadata": {},
          "execution_count": 180
        }
      ]
    },
    {
      "cell_type": "markdown",
      "source": [
        "- Aqui, observamos que a diferença de valor de aluguel de uma casa na mesma cidade, aumentando apenas um quarto, temos um aumento em média de 1.608,00. Mais uma vez, um valor bem considerável."
      ],
      "metadata": {
        "id": "K8ciRYZO6eof"
      }
    },
    {
      "cell_type": "code",
      "source": [
        "# Aumentando 1 banheiro na cidade mais cara (São paulo)\n",
        "filtro4 = df_alterado.loc[((df_alterado.rooms==3) & (df_alterado.bathroom==3) & (df_alterado.city=='São Paulo'))].mean().round(2)\n",
        "filtro4"
      ],
      "metadata": {
        "colab": {
          "base_uri": "https://localhost:8080/"
        },
        "id": "JyFMEOuq6qR8",
        "outputId": "b82e2919-9134-4694-c8d4-fe68ed290762"
      },
      "execution_count": 181,
      "outputs": [
        {
          "output_type": "execute_result",
          "data": {
            "text/plain": [
              "area                    187.18\n",
              "rooms                     3.00\n",
              "bathroom                  3.00\n",
              "parking spaces            2.38\n",
              "floors                    5.25\n",
              "hoa (R$)               1302.66\n",
              "rent amount (R$)       5656.54\n",
              "property tax (R$)       473.46\n",
              "fire insurance (R$)      76.32\n",
              "total (R$)             7509.74\n",
              "dtype: float64"
            ]
          },
          "metadata": {},
          "execution_count": 181
        }
      ]
    },
    {
      "cell_type": "markdown",
      "source": [
        "- Aqui, observamos que a diferença de valor de aluguel de uma casa na mesma cidade, aumentando apenas um banheiro, temos um aumento em média de 1.617,00. Mais uma vez, um valor bem considerável."
      ],
      "metadata": {
        "id": "cT3oJm8E6w9k"
      }
    },
    {
      "cell_type": "markdown",
      "source": [
        "### Considerações finais:\n",
        "\n",
        "- Com as análises feitas, pudemos observar melhor o comportamento dos dados e conseguimos explorar os fatores que influenciam ou não nos preços do aluguel das casas nessas 5 cidades brasileiras. É clao que seria possível responder diversas outras perguntas e fazer várias outras observações. \n",
        "- Conseguimos responder as hipóteses iniciais propostas nesse estudo:\n",
        "  - Temos algumas cidades que tem aluguel mais caro que outras;\n",
        "  - Casas com mobília realmente tem aluguel mais caro também;\n",
        "  - Nem todas as cidades seguem o padrão de serem mais caras por aceitarem animais;\n",
        "  - Os preços de aluguel aumentam até determinada quantidade de vagas de garagem ou quantidade de andares;\n",
        "  - Temos uma diferença bastante considerável por ter mais um quarto em uma casa na mesma cidade;\n",
        "  - Temos uma diferença bastante considerável por ter mais um quarto em uma casa na mesma cidade;\n",
        "  - Temos uma diferença bastante considerável em uma casa com mesma quantidade de quartos e banheiros mudando a cidade onde está localizada;\n",
        "- Esse estudo poderia ser complementado com mais análises e com aplicação de modelos de Machine Learning utilizados para prever os valores dos alugueis das casas em relação a tudo que foi observado e assim poder servir como um modelo que receberia novas variáveis e poderia nos dar o valor estimado do aluguel dela."
      ],
      "metadata": {
        "id": "93719fYqq0ro"
      }
    }
  ]
}